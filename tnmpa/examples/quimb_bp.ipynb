{
 "cells": [
  {
   "attachments": {},
   "cell_type": "markdown",
   "metadata": {},
   "source": [
    "# Vectorized Belief Propagation\n",
    "\n",
    "Example of vectorized BP in quimb"
   ]
  },
  {
   "cell_type": "code",
   "execution_count": 1,
   "metadata": {},
   "outputs": [],
   "source": [
    "import quimb.tensor as qtn\n",
    "import tnmpa.solvers.quimb_vbp as qbp"
   ]
  },
  {
   "attachments": {},
   "cell_type": "markdown",
   "metadata": {},
   "source": [
    "### single run and entropy computation\n"
   ]
  },
  {
   "cell_type": "code",
   "execution_count": 2,
   "metadata": {},
   "outputs": [],
   "source": [
    "# can also call KsatInstance.htn(mode='dense') for smaller N\n",
    "tn = qtn.HTN_random_ksat(\n",
    "    4, \n",
    "    10_000, \n",
    "    alpha=3.0, \n",
    "    # mode must be dense to have a single positive tensor per clause\n",
    "    mode='dense', \n",
    "    seed=42,\n",
    ")"
   ]
  },
  {
   "cell_type": "code",
   "execution_count": 3,
   "metadata": {},
   "outputs": [
    {
     "name": "stderr",
     "output_type": "stream",
     "text": [
      "8.870681966755001e-14:   4%|▎         | 37/1000 [00:01<00:36, 26.18it/s] \n"
     ]
    }
   ],
   "source": [
    "messages, converged = qbp.run_belief_propagation(\n",
    "    tn, \n",
    "    tol=1e-13,\n",
    "    max_iterations=1000, \n",
    "    progbar=True,\n",
    "    # you can parallelize but its not super efficient\n",
    "    thread_pool=8,\n",
    ")"
   ]
  },
  {
   "cell_type": "code",
   "execution_count": 4,
   "metadata": {},
   "outputs": [
    {
     "data": {
      "text/plain": [
       "4977.911085773034"
      ]
     },
     "execution_count": 4,
     "metadata": {},
     "output_type": "execute_result"
    }
   ],
   "source": [
    "qbp.compute_free_entropy_from_messages(tn, messages)"
   ]
  },
  {
   "attachments": {},
   "cell_type": "markdown",
   "metadata": {},
   "source": [
    "### sampling\n"
   ]
  },
  {
   "cell_type": "code",
   "execution_count": 5,
   "metadata": {},
   "outputs": [],
   "source": [
    "tn = qtn.HTN_random_ksat(\n",
    "    3, \n",
    "    1_000, \n",
    "    alpha=3.0, \n",
    "    # mode must be dense to have a single positive tensor per clause\n",
    "    mode='dense', \n",
    "    seed=42,\n",
    ")"
   ]
  },
  {
   "cell_type": "code",
   "execution_count": 6,
   "metadata": {},
   "outputs": [
    {
     "name": "stderr",
     "output_type": "stream",
     "text": [
      "var301->0: 100%|██████████| 1000/1000 [01:48<00:00,  9.21it/s]\n"
     ]
    }
   ],
   "source": [
    "config, tnc, omega = qbp.sample_belief_propagation(\n",
    "    tn, progbar=True, \n",
    "    thread_pool=8,\n",
    "    bias=True,\n",
    ")"
   ]
  },
  {
   "cell_type": "code",
   "execution_count": 7,
   "metadata": {},
   "outputs": [
    {
     "data": {
      "text/plain": [
       "1.0"
      ]
     },
     "execution_count": 7,
     "metadata": {},
     "output_type": "execute_result"
    }
   ],
   "source": [
    "# check is SAT, tnc is the TN with all variables sliced\n",
    "tnc ^ ..."
   ]
  },
  {
   "cell_type": "code",
   "execution_count": 8,
   "metadata": {},
   "outputs": [
    {
     "data": {
      "text/plain": [
       "2.4133758447507496e-117"
      ]
     },
     "execution_count": 8,
     "metadata": {},
     "output_type": "execute_result"
    }
   ],
   "source": [
    "# weight for importance sampling e.g.\n",
    "omega"
   ]
  },
  {
   "cell_type": "code",
   "execution_count": null,
   "metadata": {},
   "outputs": [],
   "source": []
  }
 ],
 "metadata": {
  "kernelspec": {
   "display_name": "Python 3 (ipykernel)",
   "language": "python",
   "name": "python3"
  },
  "language_info": {
   "codemirror_mode": {
    "name": "ipython",
    "version": 3
   },
   "file_extension": ".py",
   "mimetype": "text/x-python",
   "name": "python",
   "nbconvert_exporter": "python",
   "pygments_lexer": "ipython3",
   "version": "3.11.3"
  }
 },
 "nbformat": 4,
 "nbformat_minor": 4
}
