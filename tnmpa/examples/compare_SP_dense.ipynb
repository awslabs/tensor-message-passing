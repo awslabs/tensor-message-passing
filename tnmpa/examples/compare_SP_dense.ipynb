{
 "cells": [
  {
   "cell_type": "code",
   "execution_count": null,
   "id": "462cbbba-8207-4bcf-9059-24849cb5eeaa",
   "metadata": {},
   "outputs": [],
   "source": [
    "from tnmpa import KsatInstance, SurveyPropagation, TensorSurveyPropagation"
   ]
  },
  {
   "cell_type": "code",
   "execution_count": null,
   "id": "e40a5328-170e-4604-a032-9ccfc0511d96",
   "metadata": {},
   "outputs": [],
   "source": [
    "import random\n",
    "import numpy as np"
   ]
  },
  {
   "cell_type": "code",
   "execution_count": null,
   "id": "57a1b129-2ec1-4c27-ae5a-c73743fce012",
   "metadata": {},
   "outputs": [],
   "source": [
    "alpha = 1.1\n",
    "\n",
    "# number of variables\n",
    "N = 30\n",
    "\n",
    "# numer of clauses\n",
    "M = int(alpha * N)\n",
    "\n",
    "# K of K-SAT\n",
    "K = 3"
   ]
  },
  {
   "cell_type": "code",
   "execution_count": null,
   "id": "be2ded93-a95e-4c64-b568-0625db73d069",
   "metadata": {},
   "outputs": [],
   "source": [
    "seed = 0\n",
    "instance = KsatInstance(N, M, K, seed = seed)"
   ]
  },
  {
   "cell_type": "code",
   "execution_count": null,
   "id": "a46e7857-f27b-4875-9877-d8db88089fee",
   "metadata": {},
   "outputs": [],
   "source": [
    "ksol_sp = SurveyPropagation(instance)"
   ]
  },
  {
   "cell_type": "code",
   "execution_count": null,
   "id": "d03b64e7-d689-40ea-88ac-c7015692532c",
   "metadata": {},
   "outputs": [],
   "source": [
    "status = ksol_sp.MP(\n",
    "    ksol_sp.envs_tensors, \n",
    "    ksol_sp.instance, \n",
    "    tol=1e-3,\n",
    ")\n",
    "status[\"bp_converged\"], status[\"max_distance\"]"
   ]
  },
  {
   "cell_type": "code",
   "execution_count": null,
   "id": "26d5faac-0fec-40be-9cc2-399e6faa7055",
   "metadata": {},
   "outputs": [],
   "source": [
    "instance = KsatInstance(N, M, K, seed=seed)"
   ]
  },
  {
   "cell_type": "code",
   "execution_count": null,
   "id": "ecf13dde-06f4-4943-b670-cecc89dd1814",
   "metadata": {},
   "outputs": [],
   "source": [
    "dense_ksol_sp = TensorSurveyPropagation(instance)"
   ]
  },
  {
   "cell_type": "code",
   "execution_count": null,
   "id": "0efc643f-31ad-4ea6-87df-52b0e4a72e11",
   "metadata": {},
   "outputs": [],
   "source": [
    "status = dense_ksol_sp.MP(\n",
    "    dense_ksol_sp.envs_tensors, \n",
    "    dense_ksol_sp.instance, \n",
    "    tol=1e-3,\n",
    ")\n",
    "status[\"bp_converged\"], status[\"max_distance\"]"
   ]
  },
  {
   "cell_type": "code",
   "execution_count": null,
   "id": "54f8542a-19bc-4862-a51a-b617c73f9a05",
   "metadata": {},
   "outputs": [],
   "source": [
    "dense_sparse_distances = []\n",
    "for v in instance.variables:\n",
    "    for cc in dense_ksol_sp.envs_tensors[v].keys():\n",
    "        dense_sparse_distances.append(\n",
    "            sum(abs(\n",
    "                dense_ksol_sp.envs_tensors[v][cc] - ksol_sp.envs_tensors[v][cc]\n",
    "            ))\n",
    "        )"
   ]
  },
  {
   "cell_type": "code",
   "execution_count": null,
   "id": "52d6aedb-20e5-4227-8766-035754223d00",
   "metadata": {},
   "outputs": [],
   "source": [
    "max(dense_sparse_distances)"
   ]
  },
  {
   "cell_type": "code",
   "execution_count": null,
   "id": "ce2ce9e8-5fd1-4328-97c6-b2ef12cf2b0c",
   "metadata": {},
   "outputs": [],
   "source": []
  }
 ],
 "metadata": {
  "kernelspec": {
   "display_name": "Python 3 (ipykernel)",
   "language": "python",
   "name": "python3"
  },
  "language_info": {
   "codemirror_mode": {
    "name": "ipython",
    "version": 3
   },
   "file_extension": ".py",
   "mimetype": "text/x-python",
   "name": "python",
   "nbconvert_exporter": "python",
   "pygments_lexer": "ipython3",
   "version": "3.11.3"
  },
  "vscode": {
   "interpreter": {
    "hash": "39c10650315d977fb13868ea1402e99f3e10e9885c2c202e692ae90b8995050d"
   }
  }
 },
 "nbformat": 4,
 "nbformat_minor": 5
}
