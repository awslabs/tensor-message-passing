{
 "cells": [
  {
   "cell_type": "code",
   "execution_count": null,
   "id": "3e4381e6-6468-4411-ac5a-c3d104fd15d9",
   "metadata": {},
   "outputs": [],
   "source": [
    "%config InlineBackend.figure_formats = ['svg']\n",
    "import quimb as qu\n",
    "import quimb.tensor as qtn\n",
    "import numpy as np\n",
    "import collections\n",
    "import autoray as ar\n",
    "from autoray import do\n",
    "import xyzpy as xyz\n",
    "import cotengra as ctg\n",
    "import opt_einsum as oe"
   ]
  },
  {
   "cell_type": "code",
   "execution_count": null,
   "id": "699fc5cc-a277-4737-84d6-d0eb851f16f6",
   "metadata": {},
   "outputs": [],
   "source": [
    "from tnmpa import (\n",
    "    setup_vbp,\n",
    "    iterate_vbp,\n",
    "    get_messages,\n",
    ")"
   ]
  },
  {
   "cell_type": "code",
   "execution_count": null,
   "id": "ad009668-4c2f-4ca6-8a35-49e40f243de9",
   "metadata": {},
   "outputs": [],
   "source": [
    "# this speeds up (multi-threads) numpy einsum, if torch installed\n",
    "import torch\n",
    "\n",
    "def einsum_via_torch(eq, x, y):\n",
    "    # this is all no-copy\n",
    "    return torch.einsum(\n",
    "        eq, \n",
    "        torch.from_numpy(x), \n",
    "        torch.from_numpy(y),\n",
    "    ).numpy()\n",
    "\n",
    "# this subs in the implementation for quimb + cotengra\n",
    "ar.register_function('numpy', 'einsum', einsum_via_torch)"
   ]
  },
  {
   "attachments": {},
   "cell_type": "markdown",
   "id": "f1c36847-c3c1-494a-87f3-7537b0e820cd",
   "metadata": {},
   "source": [
    "Create a random SAT style cubic tensor network for testing."
   ]
  },
  {
   "cell_type": "code",
   "execution_count": null,
   "id": "3ce723b0-8a91-45f5-99a5-a15e2fc6b12b",
   "metadata": {},
   "outputs": [],
   "source": [
    "rng = np.random.default_rng(666)\n",
    "\n",
    "tn = qtn.TN_from_edges_and_fill_fn(\n",
    "    lambda s: rng.choice([0.0, 1.0], size=s),\n",
    "    edges=qtn.edges_3d_cubic(50, 50, 50),\n",
    "    D=3,\n",
    ")\n",
    "tn"
   ]
  },
  {
   "attachments": {},
   "cell_type": "markdown",
   "id": "34ce1d5d-649d-45d7-9311-b2f03c48a855",
   "metadata": {},
   "source": [
    "Setup:"
   ]
  },
  {
   "cell_type": "code",
   "execution_count": null,
   "id": "27f9004c-980a-440c-960f-031c53a645ba",
   "metadata": {},
   "outputs": [],
   "source": [
    "%%time\n",
    "inputs, outs, exprs, maskin, maskout, output_locs = setup_vbp(tn)"
   ]
  },
  {
   "attachments": {},
   "cell_type": "markdown",
   "id": "d2a0eb33-70f7-48de-8951-2834ed512156",
   "metadata": {},
   "source": [
    "Time first run:"
   ]
  },
  {
   "cell_type": "code",
   "execution_count": null,
   "id": "36daac01-0b94-4dba-b860-e4ff2c49eeaa",
   "metadata": {},
   "outputs": [],
   "source": [
    "%%time\n",
    "inputs, outs = iterate_vbp(inputs, outs, exprs, maskin, maskout)"
   ]
  },
  {
   "attachments": {},
   "cell_type": "markdown",
   "id": "02da7415-99c1-4276-b0c2-8d0759d2746c",
   "metadata": {},
   "source": [
    "Time 10 runs:"
   ]
  },
  {
   "cell_type": "code",
   "execution_count": null,
   "id": "e32a4772-77cd-4011-9c98-7d6505485502",
   "metadata": {},
   "outputs": [],
   "source": [
    "%%time\n",
    "for _ in range(10):\n",
    "    # nb the bottleneck in `numpy.einsum` which is *not* parallelized\n",
    "    inputs, outs = iterate_vbp(inputs, outs, exprs, maskin, maskout)"
   ]
  },
  {
   "cell_type": "code",
   "execution_count": null,
   "id": "725a2b10-7f4b-4f1a-8374-1037dc85925c",
   "metadata": {},
   "outputs": [],
   "source": [
    "# the stack of messages of all corner adjacent bonds\n",
    "xyz.visualize_tensor(outs[2].T, spacing_factor=0.0, figsize=(10, 10))"
   ]
  },
  {
   "attachments": {},
   "cell_type": "markdown",
   "id": "88660cb6-98ad-430b-977f-c864b45022ca",
   "metadata": {},
   "source": [
    "Extract the messages from the arrays:"
   ]
  },
  {
   "cell_type": "code",
   "execution_count": null,
   "id": "f8a6fc92-140e-4e1f-b85e-b6c218c57a89",
   "metadata": {},
   "outputs": [],
   "source": [
    "messages = get_messages(outs, output_locs)"
   ]
  },
  {
   "attachments": {},
   "cell_type": "markdown",
   "id": "abc16bc0-f0ea-4556-ad7c-db24153e746c",
   "metadata": {},
   "source": [
    "# jax compiled"
   ]
  },
  {
   "cell_type": "code",
   "execution_count": null,
   "id": "8e1e59a6-ca18-4426-8593-5c47f3dc6c5b",
   "metadata": {},
   "outputs": [],
   "source": [
    "# re-initialize\n",
    "inputs, outs, exprs, maskin, maskout, output_locs = setup_vbp(tn)"
   ]
  },
  {
   "cell_type": "code",
   "execution_count": null,
   "id": "22da0584-f5cd-41a6-afc7-25c581b9dd60",
   "metadata": {},
   "outputs": [],
   "source": [
    "import jax\n",
    "import functools\n",
    "\n",
    "\n",
    "@jax.jit\n",
    "def iterate_vbp_jax(inputs, outs):\n",
    "    # compute new output messages\n",
    "    for n, arrays in inputs.items():\n",
    "        outs[n] = exprs[n](*arrays)\n",
    "\n",
    "    # renormalize to distribution\n",
    "    for n, out in outs.items():\n",
    "        out /= out.sum(axis=1).reshape(-1, 1)\n",
    "\n",
    "    # copy output messages into inputs\n",
    "    for no, ni, j in maskin:\n",
    "        # modified syntax for inplace update (jax)\n",
    "        inputs[ni][j].at[maskin[no, ni, j]].set(outs[no][maskout[no, ni, j]])\n",
    "        \n",
    "    return inputs, outs"
   ]
  },
  {
   "cell_type": "code",
   "execution_count": null,
   "id": "b861c789-bee8-44fa-8386-779157a076a6",
   "metadata": {},
   "outputs": [],
   "source": [
    "%%time\n",
    "# first compile is slow\n",
    "inputs, outs = iterate_vbp_jax(inputs, outs)"
   ]
  },
  {
   "cell_type": "code",
   "execution_count": null,
   "id": "0219f64f-590e-409f-82d3-ad35dc7306f9",
   "metadata": {},
   "outputs": [],
   "source": [
    "%%time\n",
    "# next runs should be quick...\n",
    "for _ in range(10):\n",
    "    inputs, outs = iterate_vbp_jax(inputs, outs)\n",
    "    \n",
    "# for benchmarking\n",
    "_ = next(iter(outs.values())).block_until_ready()"
   ]
  },
  {
   "cell_type": "code",
   "execution_count": null,
   "id": "98ce8f2b-c327-401d-a71b-bac4d135bfa4",
   "metadata": {},
   "outputs": [],
   "source": [
    "xyz.visualize_tensor(outs[2].T, spacing_factor=0.0, figsize=(10, 10))"
   ]
  },
  {
   "attachments": {},
   "cell_type": "markdown",
   "id": "cffbe99c-407e-4fc2-bd44-2b368c42bf66",
   "metadata": {},
   "source": [
    "Speedup in this case is ~50x:"
   ]
  },
  {
   "cell_type": "code",
   "execution_count": null,
   "id": "efa689f1-1a2c-462d-8b83-4462c9877057",
   "metadata": {},
   "outputs": [],
   "source": [
    "11.9 / 218e-3"
   ]
  },
  {
   "attachments": {},
   "cell_type": "markdown",
   "id": "f77d0f0d-2dc9-4b6f-b00b-d86a4d47de70",
   "metadata": {},
   "source": [
    "Messages look slightly different, due to precision?"
   ]
  }
 ],
 "metadata": {
  "kernelspec": {
   "display_name": "tnmpa",
   "language": "python",
   "name": "python3"
  },
  "language_info": {
   "codemirror_mode": {
    "name": "ipython",
    "version": 3
   },
   "file_extension": ".py",
   "mimetype": "text/x-python",
   "name": "python",
   "nbconvert_exporter": "python",
   "pygments_lexer": "ipython3",
   "version": "3.11.3"
  }
 },
 "nbformat": 4,
 "nbformat_minor": 5
}
