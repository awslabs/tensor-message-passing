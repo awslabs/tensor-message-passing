{
 "cells": [
  {
   "cell_type": "code",
   "execution_count": 1,
   "id": "a378cbd7-9e96-4bf6-b425-41bc80dac210",
   "metadata": {},
   "outputs": [],
   "source": [
    "%load_ext autoreload\n",
    "%autoreload 2"
   ]
  },
  {
   "cell_type": "code",
   "execution_count": 2,
   "id": "462cbbba-8207-4bcf-9059-24849cb5eeaa",
   "metadata": {},
   "outputs": [],
   "source": [
    "from tnmpa import KsatInstance, BeliefPropagation, TensorBeliefPropagation"
   ]
  },
  {
   "cell_type": "code",
   "execution_count": 3,
   "id": "e40a5328-170e-4604-a032-9ccfc0511d96",
   "metadata": {},
   "outputs": [],
   "source": [
    "import random\n",
    "import numpy as np"
   ]
  },
  {
   "cell_type": "code",
   "execution_count": 4,
   "id": "57a1b129-2ec1-4c27-ae5a-c73743fce012",
   "metadata": {},
   "outputs": [],
   "source": [
    "# paramter the controls the complexity of the problem, ratio between number of clauses and number of variables\n",
    "# for alpha > 3.5 BP should start to fail\n",
    "alpha = 1.5\n",
    "\n",
    "# number of variables\n",
    "N = 50\n",
    "\n",
    "# numer of clauses\n",
    "M = int(alpha * N)\n",
    "\n",
    "# K of K-SAT\n",
    "K = 3"
   ]
  },
  {
   "cell_type": "code",
   "execution_count": 5,
   "id": "be2ded93-a95e-4c64-b568-0625db73d069",
   "metadata": {},
   "outputs": [],
   "source": [
    "seed = 0\n",
    "random.seed(seed)\n",
    "np.random.seed(seed)\n",
    "\n",
    "instance = KsatInstance(N, M, K)"
   ]
  },
  {
   "cell_type": "code",
   "execution_count": 6,
   "id": "a46e7857-f27b-4875-9877-d8db88089fee",
   "metadata": {},
   "outputs": [],
   "source": [
    "ksol_sp = BeliefPropagation(instance)"
   ]
  },
  {
   "cell_type": "code",
   "execution_count": 7,
   "id": "4f11389d-319d-4831-bb0d-b9eafddfae02",
   "metadata": {},
   "outputs": [
    {
     "name": "stdout",
     "output_type": "stream",
     "text": [
      "M\tN\talpha\tcount\tfxvar\tbias\t\tval\titers\tdist\t\tMP time\titer time\n",
      "69\t48\t1.44\t0\t39\t-8.15e-01\tTrue\t27\t5.72e-04\t0.28\t0.009\n",
      "64\t47\t1.36\t0\t3\t-6.50e-01\tTrue\t10\t7.90e-04\t0.08\t0.008\n",
      "60\t46\t1.30\t0\t25\t-6.46e-01\tTrue\t12\t6.79e-04\t0.09\t0.008\n",
      "57\t45\t1.27\t0\t19\t-6.56e-01\tTrue\t12\t8.09e-04\t0.10\t0.007\n",
      "53\t44\t1.20\t0\t40\t-6.09e-01\tTrue\t10\t9.58e-04\t0.07\t0.007\n",
      "48\t43\t1.12\t0\t45\t5.94e-01\tFalse\t12\t9.56e-04\t0.08\t0.007\n",
      "45\t42\t1.07\t0\t8\t5.70e-01\tFalse\t14\t7.58e-04\t0.09\t0.007\n",
      "42\t41\t1.02\t0\t35\t5.66e-01\tFalse\t12\t5.97e-04\t0.08\t0.005\n",
      "39\t40\t0.97\t0\t21\t-6.22e-01\tTrue\t10\t9.54e-04\t0.05\t0.005\n",
      "36\t39\t0.92\t0\t7\t5.20e-01\tFalse\t10\t8.28e-04\t0.05\t0.004\n",
      "32\t38\t0.84\t0\t1\t4.70e-01\tFalse\t14\t9.09e-04\t0.08\t0.004\n",
      "30\t37\t0.81\t0\t13\t-4.50e-01\tTrue\t10\t8.12e-04\t0.04\t0.004\n",
      "28\t36\t0.78\t0\t34\t3.76e-01\tFalse\t10\t8.90e-04\t0.04\t0.003\n",
      "26\t35\t0.74\t0\t44\t-3.90e-01\tTrue\t12\t5.37e-04\t0.04\t0.004\n",
      "23\t34\t0.68\t0\t6\t-4.48e-01\tTrue\t12\t8.73e-04\t0.04\t0.002\n",
      "22\t33\t0.67\t0\t38\t5.00e-01\tFalse\t12\t4.62e-04\t0.03\t0.002\n",
      "19\t32\t0.59\t0\t2\t4.31e-01\tFalse\t10\t9.95e-04\t0.03\t0.002\n",
      "17\t31\t0.55\t0\t20\t4.47e-01\tFalse\t9\t8.79e-04\t0.02\t0.003\n",
      "16\t30\t0.53\t0\t9\t3.62e-01\tFalse\t8\t4.32e-04\t0.02\t0.002\n",
      "13\t29\t0.45\t0\t4\t3.94e-01\tFalse\t8\t6.90e-04\t0.02\t0.002\n",
      "11\t28\t0.39\t0\t37\t-3.14e-01\tTrue\t8\t3.49e-04\t0.01\t0.001\n",
      "8\t27\t0.30\t0\t36\t3.29e-01\tFalse\t7\t8.72e-04\t0.01\t0.001\n",
      "7\t26\t0.27\t0\t46\t2.12e-01\tFalse\t8\t1.81e-04\t0.01\t0.001\n",
      "6\t25\t0.24\t0\t16\t-2.24e-01\tTrue\t5\t0.00e+00\t0.00\t0.001\n",
      "4\t24\t0.17\t0\t28\t-2.80e-01\tTrue\t3\t0.00e+00\t0.00\t0.001\n",
      "3\t23\t0.13\t0\t48\t1.43e-01\tFalse\t1\t0.00e+00\t0.00\t0.001\n",
      "2\t22\t0.09\t0\t33\t-1.43e-01\tTrue\t1\t0.00e+00\t0.00\t0.000\n",
      "1\t21\t0.05\t0\t27\t-1.43e-01\tTrue\t1\t0.00e+00\t0.00\t0.000\n",
      "0\t20\t0.00\t0\t23\t1.43e-01\tFalse\t1\t0.00e+00\t0.00\t0.000\n"
     ]
    }
   ],
   "source": [
    "tol = 1e-3\n",
    "status = ksol_sp.solve(\n",
    "    tol=tol,\n",
    "    #env_noise=0.001,\n",
    "    #threshold_bias=1e-14,\n",
    ")"
   ]
  },
  {
   "cell_type": "code",
   "execution_count": 8,
   "id": "a5fbdbe9-0356-4394-8ba0-bbb6ddb4b137",
   "metadata": {},
   "outputs": [
    {
     "data": {
      "text/plain": [
       "0"
      ]
     },
     "execution_count": 8,
     "metadata": {},
     "output_type": "execute_result"
    }
   ],
   "source": [
    "for v in ksol_sp.instance.variables:\n",
    "    ksol_sp.fixed_vars.append(v)\n",
    "    ksol_sp.vals.append(True)\n",
    "count, sol = ksol_sp.check_solution(ksol_sp.fixed_vars, ksol_sp.vals)\n",
    "count"
   ]
  },
  {
   "cell_type": "code",
   "execution_count": 9,
   "id": "9234bd18",
   "metadata": {},
   "outputs": [
    {
     "data": {
      "text/plain": [
       "13.862943611198906"
      ]
     },
     "execution_count": 9,
     "metadata": {},
     "output_type": "execute_result"
    }
   ],
   "source": [
    "ksol_sp.entropy"
   ]
  },
  {
   "cell_type": "code",
   "execution_count": 10,
   "id": "c86991c0-34ef-4eca-bde3-c79d2bdf0b57",
   "metadata": {},
   "outputs": [],
   "source": [
    "seed = 0\n",
    "instance = KsatInstance(N, M, K, seed=seed)"
   ]
  },
  {
   "cell_type": "code",
   "execution_count": 11,
   "id": "4468fb86-9020-486b-a09a-254996535021",
   "metadata": {},
   "outputs": [],
   "source": [
    "dense_ksol_sp = TensorBeliefPropagation(instance)"
   ]
  },
  {
   "cell_type": "code",
   "execution_count": 12,
   "id": "86831af3-7386-44e1-9c3e-bd9413b3f430",
   "metadata": {},
   "outputs": [
    {
     "name": "stdout",
     "output_type": "stream",
     "text": [
      "M\tN\talpha\tcount\tfxvar\tbias\t\tval\titers\tdist\t\tMP time\titer time\n",
      "69\t48\t1.44\t0\t39\t-8.15e-01\tTrue\t27\t5.72e-04\t1.98\t0.067\n",
      "64\t47\t1.36\t0\t3\t-6.50e-01\tTrue\t10\t7.90e-04\t0.64\t0.061\n",
      "60\t46\t1.30\t0\t25\t-6.46e-01\tTrue\t12\t6.79e-04\t0.63\t0.050\n",
      "57\t45\t1.27\t0\t19\t-6.56e-01\tTrue\t12\t8.09e-04\t0.57\t0.045\n",
      "53\t44\t1.20\t0\t40\t-6.09e-01\tTrue\t10\t9.58e-04\t0.46\t0.044\n",
      "48\t43\t1.12\t0\t45\t5.94e-01\tFalse\t12\t9.56e-04\t0.50\t0.040\n",
      "45\t42\t1.07\t0\t8\t5.70e-01\tFalse\t14\t7.58e-04\t0.51\t0.035\n",
      "42\t41\t1.02\t0\t35\t5.66e-01\tFalse\t12\t5.97e-04\t0.41\t0.033\n",
      "39\t40\t0.97\t0\t21\t-6.22e-01\tTrue\t10\t9.54e-04\t0.31\t0.031\n",
      "36\t39\t0.92\t0\t7\t5.20e-01\tFalse\t10\t8.28e-04\t0.29\t0.031\n",
      "32\t38\t0.84\t0\t1\t4.70e-01\tFalse\t14\t9.09e-04\t0.36\t0.024\n",
      "30\t37\t0.81\t0\t13\t-4.50e-01\tTrue\t10\t8.12e-04\t0.22\t0.023\n",
      "28\t36\t0.78\t0\t34\t3.76e-01\tFalse\t10\t8.90e-04\t0.21\t0.019\n",
      "26\t35\t0.74\t0\t44\t-3.90e-01\tTrue\t12\t5.37e-04\t0.22\t0.020\n",
      "23\t34\t0.68\t0\t6\t-4.48e-01\tTrue\t12\t8.73e-04\t0.21\t0.017\n",
      "22\t33\t0.67\t0\t38\t5.00e-01\tFalse\t12\t4.62e-04\t0.19\t0.015\n",
      "19\t32\t0.59\t0\t2\t4.31e-01\tFalse\t10\t9.95e-04\t0.15\t0.016\n",
      "17\t31\t0.55\t0\t20\t4.47e-01\tFalse\t9\t8.79e-04\t0.11\t0.011\n",
      "16\t30\t0.53\t0\t9\t3.62e-01\tFalse\t8\t4.32e-04\t0.08\t0.010\n",
      "13\t29\t0.45\t0\t4\t3.94e-01\tFalse\t8\t6.90e-04\t0.09\t0.010\n",
      "11\t28\t0.39\t0\t37\t-3.14e-01\tTrue\t8\t3.49e-04\t0.07\t0.007\n",
      "8\t27\t0.30\t0\t36\t3.29e-01\tFalse\t7\t8.72e-04\t0.05\t0.006\n",
      "7\t26\t0.27\t0\t46\t2.12e-01\tFalse\t8\t1.81e-04\t0.04\t0.005\n",
      "6\t25\t0.24\t0\t16\t-2.24e-01\tTrue\t5\t0.00e+00\t0.02\t0.004\n",
      "4\t24\t0.17\t0\t28\t-2.80e-01\tTrue\t3\t0.00e+00\t0.01\t0.003\n",
      "3\t23\t0.13\t0\t48\t1.43e-01\tFalse\t1\t0.00e+00\t0.00\t0.002\n",
      "2\t22\t0.09\t0\t33\t-1.43e-01\tTrue\t1\t0.00e+00\t0.00\t0.002\n",
      "1\t21\t0.05\t0\t27\t-1.43e-01\tTrue\t1\t0.00e+00\t0.00\t0.001\n",
      "0\t20\t0.00\t0\t23\t1.43e-01\tFalse\t1\t0.00e+00\t0.00\t0.001\n"
     ]
    }
   ],
   "source": [
    "tol = 1e-3\n",
    "status = dense_ksol_sp.solve(\n",
    "    tol=tol,\n",
    "    #env_noise=0.001,\n",
    "    #threshold_bias=1e-14,\n",
    ")"
   ]
  },
  {
   "cell_type": "code",
   "execution_count": 13,
   "id": "ab30e90c-f987-4687-a18b-0ec780a4896e",
   "metadata": {},
   "outputs": [
    {
     "data": {
      "text/plain": [
       "13.862943611198906"
      ]
     },
     "execution_count": 13,
     "metadata": {},
     "output_type": "execute_result"
    }
   ],
   "source": [
    "dense_ksol_sp.entropy"
   ]
  },
  {
   "cell_type": "code",
   "execution_count": null,
   "id": "cce36e10-30da-40e7-aa68-4cec8477f2bc",
   "metadata": {},
   "outputs": [],
   "source": []
  }
 ],
 "metadata": {
  "kernelspec": {
   "display_name": "Python 3 (ipykernel)",
   "language": "python",
   "name": "python3"
  },
  "language_info": {
   "codemirror_mode": {
    "name": "ipython",
    "version": 3
   },
   "file_extension": ".py",
   "mimetype": "text/x-python",
   "name": "python",
   "nbconvert_exporter": "python",
   "pygments_lexer": "ipython3",
   "version": "3.11.3"
  },
  "vscode": {
   "interpreter": {
    "hash": "39c10650315d977fb13868ea1402e99f3e10e9885c2c202e692ae90b8995050d"
   }
  }
 },
 "nbformat": 4,
 "nbformat_minor": 5
}
