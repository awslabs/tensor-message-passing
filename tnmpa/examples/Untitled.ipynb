{
 "cells": [
  {
   "cell_type": "code",
   "execution_count": 6,
   "id": "adeac00a-fa62-49b1-9e66-4f75c210bef7",
   "metadata": {},
   "outputs": [],
   "source": [
    "import numpy as np\n",
    "from tnmp.tnmp import Clause"
   ]
  },
  {
   "cell_type": "code",
   "execution_count": 11,
   "id": "118af2c6-fab2-4070-9557-5c375a5b9901",
   "metadata": {},
   "outputs": [],
   "source": [
    "clause = Clause([0,1], [0,1], \"c0\")"
   ]
  },
  {
   "cell_type": "code",
   "execution_count": 12,
   "id": "487d33ce-5fee-43ae-bdcd-6c2a7c22550d",
   "metadata": {},
   "outputs": [],
   "source": [
    "data_tc = np.ones([2] * len(clause.pos))\n",
    "sl = tuple(1 if clause(p) else 0 for p in clause.pos)\n",
    "data_tc[sl] = 0\n",
    "\n",
    "double_tensor = np.kron(data_tc, data_tc)"
   ]
  },
  {
   "cell_type": "code",
   "execution_count": 13,
   "id": "7789aed8-33d0-4a07-a267-dc487ef5edfb",
   "metadata": {},
   "outputs": [
    {
     "data": {
      "text/plain": [
       "(4, 4)"
      ]
     },
     "execution_count": 13,
     "metadata": {},
     "output_type": "execute_result"
    }
   ],
   "source": [
    "double_tensor.shape"
   ]
  },
  {
   "cell_type": "code",
   "execution_count": 27,
   "id": "434d4940-461a-4f6d-b97d-85b26a1c7af4",
   "metadata": {},
   "outputs": [
    {
     "data": {
      "text/plain": [
       "0.0"
      ]
     },
     "execution_count": 27,
     "metadata": {},
     "output_type": "execute_result"
    }
   ],
   "source": [
    "d = {\n",
    "    \"00\": 0,\n",
    "    \"01\": 1,\n",
    "    \"10\": 2,\n",
    "    \"11\": 3,\n",
    "}\n",
    "double_tensor[d[\"00\"],d[\"10\"]]"
   ]
  },
  {
   "cell_type": "code",
   "execution_count": 50,
   "id": "3b85b9f0-edad-4939-a4a9-a367893a328d",
   "metadata": {},
   "outputs": [
    {
     "data": {
      "text/plain": [
       "array([1., 1., 1., 1.])"
      ]
     },
     "execution_count": 50,
     "metadata": {},
     "output_type": "execute_result"
    }
   ],
   "source": [
    "zero = np.array([1, 0])\n",
    "one = np.array([0, 1])\n",
    "\n",
    "double_tensor @ np.kron(zero, zero)"
   ]
  },
  {
   "cell_type": "code",
   "execution_count": 44,
   "id": "1d490362-1db3-4ec8-95d6-2dbd7535468a",
   "metadata": {},
   "outputs": [
    {
     "data": {
      "text/plain": [
       "0.0"
      ]
     },
     "execution_count": 44,
     "metadata": {},
     "output_type": "execute_result"
    }
   ],
   "source": [
    "zero.T @ data_tc @ one"
   ]
  },
  {
   "cell_type": "code",
   "execution_count": 38,
   "id": "61de5ea9-e6b6-4afa-bdb0-ec53ee662833",
   "metadata": {},
   "outputs": [
    {
     "data": {
      "text/plain": [
       "array([[1., 0.],\n",
       "       [1., 1.]])"
      ]
     },
     "execution_count": 38,
     "metadata": {},
     "output_type": "execute_result"
    }
   ],
   "source": [
    "data_tc"
   ]
  },
  {
   "cell_type": "code",
   "execution_count": 51,
   "id": "8f3556b7-fb61-4987-9586-470734eac3c7",
   "metadata": {},
   "outputs": [
    {
     "data": {
      "text/plain": [
       "array([1, 0, 0, 0])"
      ]
     },
     "execution_count": 51,
     "metadata": {},
     "output_type": "execute_result"
    }
   ],
   "source": [
    "np.kron(zero, zero)"
   ]
  },
  {
   "cell_type": "code",
   "execution_count": 52,
   "id": "42c5d0f2-57f6-488b-afbd-3c35aa1cec07",
   "metadata": {},
   "outputs": [
    {
     "data": {
      "text/plain": [
       "array([0, 0, 0, 1])"
      ]
     },
     "execution_count": 52,
     "metadata": {},
     "output_type": "execute_result"
    }
   ],
   "source": [
    "np.kron(one, one)"
   ]
  },
  {
   "cell_type": "code",
   "execution_count": 53,
   "id": "06333cce-2977-489f-80a9-fe1d673dc3b5",
   "metadata": {},
   "outputs": [
    {
     "data": {
      "text/plain": [
       "array([[1., 0., 0., 0.],\n",
       "       [0., 1., 0., 0.],\n",
       "       [0., 0., 1., 0.],\n",
       "       [0., 0., 0., 1.]])"
      ]
     },
     "execution_count": 53,
     "metadata": {},
     "output_type": "execute_result"
    }
   ],
   "source": [
    "np.kron(np.eye(2), np.eye(2))"
   ]
  },
  {
   "cell_type": "code",
   "execution_count": 54,
   "id": "28dffdaf-6bb2-4bb3-9506-c95d39ddb76d",
   "metadata": {},
   "outputs": [],
   "source": [
    "a = np.random.rand(100)"
   ]
  },
  {
   "cell_type": "code",
   "execution_count": 56,
   "id": "b25edd53-fb54-48d1-8714-d620225d11a8",
   "metadata": {},
   "outputs": [
    {
     "data": {
      "text/plain": [
       "-1.4210854715202004e-14"
      ]
     },
     "execution_count": 56,
     "metadata": {},
     "output_type": "execute_result"
    }
   ],
   "source": [
    "np.linalg.norm(a, ord=1.0) - sum(abs(a))"
   ]
  },
  {
   "cell_type": "code",
   "execution_count": 57,
   "id": "c402632e-efb4-4a3c-9505-10e37d08a765",
   "metadata": {},
   "outputs": [
    {
     "data": {
      "text/plain": [
       "47.29664691362037"
      ]
     },
     "execution_count": 57,
     "metadata": {},
     "output_type": "execute_result"
    }
   ],
   "source": [
    "sum(abs(a))"
   ]
  },
  {
   "cell_type": "code",
   "execution_count": 58,
   "id": "04cb7b2f-9feb-4f20-9b68-905ad6bce0ba",
   "metadata": {},
   "outputs": [
    {
     "data": {
      "text/plain": [
       "47.29664691362036"
      ]
     },
     "execution_count": 58,
     "metadata": {},
     "output_type": "execute_result"
    }
   ],
   "source": [
    "np.linalg.norm(a, ord=1.0) "
   ]
  },
  {
   "cell_type": "code",
   "execution_count": null,
   "id": "b9155a43-fdaa-4c26-9514-1ff1138cc4f9",
   "metadata": {},
   "outputs": [],
   "source": []
  }
 ],
 "metadata": {
  "kernelspec": {
   "display_name": "Python 3 (ipykernel)",
   "language": "python",
   "name": "python3"
  },
  "language_info": {
   "codemirror_mode": {
    "name": "ipython",
    "version": 3
   },
   "file_extension": ".py",
   "mimetype": "text/x-python",
   "name": "python",
   "nbconvert_exporter": "python",
   "pygments_lexer": "ipython3",
   "version": "3.9.7"
  }
 },
 "nbformat": 4,
 "nbformat_minor": 5
}
