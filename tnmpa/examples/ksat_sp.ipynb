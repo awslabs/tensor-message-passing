{
 "cells": [
  {
   "cell_type": "code",
   "execution_count": 1,
   "id": "a38efb7d",
   "metadata": {},
   "outputs": [],
   "source": [
    "%load_ext autoreload\n",
    "%autoreload 2"
   ]
  },
  {
   "cell_type": "code",
   "execution_count": 2,
   "id": "462cbbba-8207-4bcf-9059-24849cb5eeaa",
   "metadata": {},
   "outputs": [],
   "source": [
    "from tnmpa import KSAT, SurveyPropagation, TensorSurveyPropagation"
   ]
  },
  {
   "cell_type": "code",
   "execution_count": 3,
   "id": "e40a5328-170e-4604-a032-9ccfc0511d96",
   "metadata": {},
   "outputs": [],
   "source": [
    "import random\n",
    "import numpy as np"
   ]
  },
  {
   "cell_type": "code",
   "execution_count": 4,
   "id": "57a1b129-2ec1-4c27-ae5a-c73743fce012",
   "metadata": {},
   "outputs": [],
   "source": [
    "# paramter the controls the complexity of the problem, ratio between number of clauses and number of variables\n",
    "# for alpha > 3.5 BP should start to fail\n",
    "alpha = 4.2\n",
    "\n",
    "# number of variables\n",
    "N = 100\n",
    "\n",
    "# numer of clauses\n",
    "M = int(alpha * N)\n",
    "\n",
    "# K of K-SAT\n",
    "K = 3"
   ]
  },
  {
   "cell_type": "code",
   "execution_count": 6,
   "id": "be2ded93-a95e-4c64-b568-0625db73d069",
   "metadata": {},
   "outputs": [],
   "source": [
    "seed = 0\n",
    "instance = KSAT(N, M, K, seed = seed)"
   ]
  },
  {
   "cell_type": "code",
   "execution_count": 7,
   "id": "a46e7857-f27b-4875-9877-d8db88089fee",
   "metadata": {},
   "outputs": [],
   "source": [
    "ksol_sp = SurveyPropagation(instance)"
   ]
  },
  {
   "cell_type": "code",
   "execution_count": 8,
   "id": "4f11389d-319d-4831-bb0d-b9eafddfae02",
   "metadata": {},
   "outputs": [
    {
     "name": "stdout",
     "output_type": "stream",
     "text": [
      "M\tN\talpha\tcount\tfxvar\tbias\t\tval\titers\tdist\t\tMP time\titer time\n",
      "412\t99\t4.16\t0\tv14\t9.34e-01\tFalse\t207\t1.00e-03\t31.09\t0.145\n",
      "404\t98\t4.12\t0\tv47\t9.23e-01\tFalse\t61\t8.90e-04\t8.69\t0.135\n",
      "391\t97\t4.03\t0\tv10\t9.21e-01\tFalse\t43\t9.91e-04\t5.95\t0.135\n",
      "380\t96\t3.96\t0\tv37\t-9.10e-01\tTrue\t52\t9.21e-04\t6.82\t0.127\n",
      "367\t95\t3.86\t0\tv77\t8.64e-01\tFalse\t70\t9.78e-04\t8.56\t0.117\n",
      "358\t94\t3.81\t0\tv32\t8.61e-01\tFalse\t56\t9.71e-04\t6.57\t0.112\n",
      "Bias (6.015171782891571e-08) smaller than tol (0.001)\n"
     ]
    }
   ],
   "source": [
    "tol = 1e-3\n",
    "status = ksol_sp.solve(\n",
    "    tol=tol,\n",
    "    #env_noise=0.001,\n",
    "    #threshold_bias=1e-14,\n",
    ")"
   ]
  },
  {
   "cell_type": "code",
   "execution_count": 9,
   "id": "97fb70fc-0404-4c52-bb8b-3921cf608bcc",
   "metadata": {},
   "outputs": [],
   "source": [
    "from tnmpa import WalkSAT\n",
    "ksol_walksat = WalkSAT(instance)"
   ]
  },
  {
   "cell_type": "code",
   "execution_count": 10,
   "id": "9f660fdb-1590-435c-8909-66bffc297aa8",
   "metadata": {},
   "outputs": [
    {
     "name": "stdout",
     "output_type": "stream",
     "text": [
      "Iter: 0, energy: 40\n",
      "Iter: 500, energy: 2\n",
      "Iter: 1000, energy: 2\n",
      "Iter: 1500, energy: 3\n",
      "Iter: 2000, energy: 3\n",
      "Solution found\n"
     ]
    },
    {
     "data": {
      "text/plain": [
       "True"
      ]
     },
     "execution_count": 10,
     "metadata": {},
     "output_type": "execute_result"
    }
   ],
   "source": [
    "ksol_walksat.solve(10000, 0.6)"
   ]
  },
  {
   "cell_type": "code",
   "execution_count": null,
   "id": "8f8d6345",
   "metadata": {},
   "outputs": [],
   "source": []
  }
 ],
 "metadata": {
  "kernelspec": {
   "display_name": "Python 3 (ipykernel)",
   "language": "python",
   "name": "python3"
  },
  "language_info": {
   "codemirror_mode": {
    "name": "ipython",
    "version": 3
   },
   "file_extension": ".py",
   "mimetype": "text/x-python",
   "name": "python",
   "nbconvert_exporter": "python",
   "pygments_lexer": "ipython3",
   "version": "3.11.3"
  },
  "vscode": {
   "interpreter": {
    "hash": "39c10650315d977fb13868ea1402e99f3e10e9885c2c202e692ae90b8995050d"
   }
  }
 },
 "nbformat": 4,
 "nbformat_minor": 5
}
