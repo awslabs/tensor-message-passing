{
 "cells": [
  {
   "cell_type": "code",
   "execution_count": null,
   "id": "462cbbba-8207-4bcf-9059-24849cb5eeaa",
   "metadata": {},
   "outputs": [],
   "source": [
    "from tnmpa import KsatInstance, SurveyPropagation, TensorSurveyPropagation"
   ]
  },
  {
   "cell_type": "code",
   "execution_count": null,
   "id": "e40a5328-170e-4604-a032-9ccfc0511d96",
   "metadata": {},
   "outputs": [],
   "source": [
    "import random\n",
    "import numpy as np"
   ]
  },
  {
   "cell_type": "code",
   "execution_count": null,
   "id": "57a1b129-2ec1-4c27-ae5a-c73743fce012",
   "metadata": {},
   "outputs": [],
   "source": [
    "# paramter the controls the complexity of the problem, ratio between number of clauses and number of variables\n",
    "# for alpha > 3.5 BP should start to fail\n",
    "alpha = 4.2\n",
    "\n",
    "# number of variables\n",
    "N = 100\n",
    "\n",
    "# numer of clauses\n",
    "M = int(alpha * N)\n",
    "\n",
    "# K of K-SAT\n",
    "K = 3"
   ]
  },
  {
   "cell_type": "code",
   "execution_count": null,
   "id": "be2ded93-a95e-4c64-b568-0625db73d069",
   "metadata": {},
   "outputs": [],
   "source": [
    "seed = 0\n",
    "instance = KsatInstance(N, M, K, seed = seed)"
   ]
  },
  {
   "cell_type": "code",
   "execution_count": null,
   "id": "a46e7857-f27b-4875-9877-d8db88089fee",
   "metadata": {},
   "outputs": [],
   "source": [
    "ksol_sp = SurveyPropagation(instance)"
   ]
  },
  {
   "cell_type": "code",
   "execution_count": null,
   "id": "4f11389d-319d-4831-bb0d-b9eafddfae02",
   "metadata": {},
   "outputs": [],
   "source": [
    "tol = 1e-3\n",
    "status = ksol_sp.solve(\n",
    "    tol=tol,\n",
    "    #env_noise=0.001,\n",
    "    #threshold_bias=1e-14,\n",
    ")"
   ]
  },
  {
   "cell_type": "code",
   "execution_count": null,
   "id": "97fb70fc-0404-4c52-bb8b-3921cf608bcc",
   "metadata": {},
   "outputs": [],
   "source": [
    "from tnmpa import WalkSAT\n",
    "ksol_walksat = WalkSAT(instance)"
   ]
  },
  {
   "cell_type": "code",
   "execution_count": null,
   "id": "9f660fdb-1590-435c-8909-66bffc297aa8",
   "metadata": {},
   "outputs": [],
   "source": [
    "ksol_walksat.solve(10000, 0.6)"
   ]
  },
  {
   "cell_type": "code",
   "execution_count": null,
   "id": "8f8d6345",
   "metadata": {},
   "outputs": [],
   "source": []
  }
 ],
 "metadata": {
  "kernelspec": {
   "display_name": "Python 3 (ipykernel)",
   "language": "python",
   "name": "python3"
  },
  "language_info": {
   "codemirror_mode": {
    "name": "ipython",
    "version": 3
   },
   "file_extension": ".py",
   "mimetype": "text/x-python",
   "name": "python",
   "nbconvert_exporter": "python",
   "pygments_lexer": "ipython3",
   "version": "3.11.3"
  },
  "vscode": {
   "interpreter": {
    "hash": "39c10650315d977fb13868ea1402e99f3e10e9885c2c202e692ae90b8995050d"
   }
  }
 },
 "nbformat": 4,
 "nbformat_minor": 5
}
