{
 "cells": [
  {
   "cell_type": "code",
   "execution_count": null,
   "id": "67e55a69",
   "metadata": {},
   "outputs": [],
   "source": [
    "from tnmpa import KsatInstance, BeliefPropagation"
   ]
  },
  {
   "cell_type": "code",
   "execution_count": null,
   "id": "462cbbba-8207-4bcf-9059-24849cb5eeaa",
   "metadata": {},
   "outputs": [],
   "source": [
    "from quimb.tensor import COPY_tensor\n",
    "import quimb.tensor as qtn"
   ]
  },
  {
   "cell_type": "code",
   "execution_count": null,
   "id": "e40a5328-170e-4604-a032-9ccfc0511d96",
   "metadata": {},
   "outputs": [],
   "source": [
    "import random\n",
    "import numpy as np"
   ]
  },
  {
   "cell_type": "code",
   "execution_count": null,
   "id": "57a1b129-2ec1-4c27-ae5a-c73743fce012",
   "metadata": {},
   "outputs": [],
   "source": [
    "# paramter the controls the complexity of the problem, ratio between number of clauses and number of variables\n",
    "# for alpha > 3.5 BP should start to fail\n",
    "alpha = 2.0\n",
    "\n",
    "# number of variables\n",
    "N = 30\n",
    "\n",
    "# numer of clauses\n",
    "M = int(alpha * N)\n",
    "\n",
    "# K of K-SAT\n",
    "K = 3"
   ]
  },
  {
   "cell_type": "code",
   "execution_count": null,
   "id": "be2ded93-a95e-4c64-b568-0625db73d069",
   "metadata": {},
   "outputs": [],
   "source": [
    "seed = 0\n",
    "instance = KsatInstance(N, M, K, seed=seed)"
   ]
  },
  {
   "cell_type": "code",
   "execution_count": null,
   "id": "ac65c8d3-be0e-4eda-9a3d-a53501cc530c",
   "metadata": {},
   "outputs": [],
   "source": [
    "ksol_sp = BeliefPropagation(instance)\n",
    "status = ksol_sp.MP(ksol_sp.envs_tensors, ksol_sp.instance, tol=1e-13)\n",
    "status[\"bp_converged\"], status[\"max_distance\"]"
   ]
  },
  {
   "cell_type": "code",
   "execution_count": null,
   "id": "7dec8dd1-0a79-4df4-b797-6740f7f38b25",
   "metadata": {},
   "outputs": [],
   "source": [
    "ksol_sp.entropy / N"
   ]
  },
  {
   "cell_type": "code",
   "execution_count": null,
   "id": "60b6389c-3cea-4f98-afaa-c3f0f12559d7",
   "metadata": {},
   "outputs": [],
   "source": [
    "tn = instance.tn(factor_threshold=6)\n",
    "tn.draw(color=[\"VARIABLE\", \"CLAUSE\"])"
   ]
  },
  {
   "cell_type": "code",
   "execution_count": null,
   "id": "2e1cf587-27ce-4a74-ad99-43629959f6a5",
   "metadata": {},
   "outputs": [],
   "source": [
    "tn.outer_inds()"
   ]
  },
  {
   "cell_type": "code",
   "execution_count": null,
   "id": "c111165c-238c-4aed-9295-429c3c0dd6a7",
   "metadata": {},
   "outputs": [],
   "source": [
    "for v in range(N):\n",
    "    if f\"T{v}\" not in tn.tag_map.keys():\n",
    "        continue\n",
    "    tn, tt = tn.partition_tensors(f\"T{v}\")\n",
    "    if len(tn.outer_inds()) > 1:\n",
    "        new_inds = {i: f\"p{v}\" for i in tn.outer_inds()}\n",
    "        tn.reindex(new_inds, inplace=True)\n",
    "    else:\n",
    "        tn |= tt"
   ]
  },
  {
   "cell_type": "code",
   "execution_count": null,
   "id": "a52ba08a-4d8c-44ca-9263-1ef11cab0029",
   "metadata": {},
   "outputs": [],
   "source": [
    "tn.draw(color=[\"VARIABLE\", \"CLAUSE\"])"
   ]
  },
  {
   "cell_type": "code",
   "execution_count": null,
   "id": "147041a5-cb71-46d5-8dba-b782c4c326e4",
   "metadata": {},
   "outputs": [],
   "source": [
    "distances = []\n",
    "print(f\"var\\tL1 norm\")\n",
    "for v in range(N):\n",
    "    tnv = tn.copy(deep=True)\n",
    "    if f\"p{v}\" in tnv.ind_map.keys():\n",
    "        tids = tnv.ind_map[f\"p{v}\"].copy()\n",
    "        for k, tid in enumerate(tids):\n",
    "            t = tnv.tensor_map[tid]\n",
    "            t.reindex({f\"p{v}\":f\"p{v}_{k}\"}, inplace=True)\n",
    "    elif f\"T{v}\" in tnv.tag_map.keys():\n",
    "        tnv, tt = tnv.partition_tensors(f\"T{v}\")\n",
    "    else:\n",
    "        continue\n",
    "    \n",
    "    tnv |= qtn.tensor_core.COPY_mps_tensors(2, list(tnv.outer_inds())+[\"out\"])\n",
    "    \n",
    "    for _ in range(1):\n",
    "        tnv = tnv.full_simplify()\n",
    "    \n",
    "    tout = tnv.contract(output_inds=(\"out\",), optimize=\"greedy\")\n",
    "    mv0 = tout.data[0]\n",
    "    mv1 = tout.data[1]\n",
    "    exact = np.array([mv0 / (mv1 + mv0),  mv1 / (mv1 + mv0)])\n",
    "    \n",
    "    bp = np.array(ksol_sp.variable_marginal(v))\n",
    "    distances.append(sum(abs(exact - bp)))\n",
    "    print(f\"{v}\\t{sum(abs(exact - bp))}\")"
   ]
  },
  {
   "cell_type": "code",
   "execution_count": null,
   "id": "a46e7857-f27b-4875-9877-d8db88089fee",
   "metadata": {},
   "outputs": [],
   "source": [
    "np.mean(distances)"
   ]
  },
  {
   "cell_type": "code",
   "execution_count": null,
   "id": "0f3a5fa7",
   "metadata": {},
   "outputs": [],
   "source": []
  }
 ],
 "metadata": {
  "kernelspec": {
   "display_name": "Python 3 (ipykernel)",
   "language": "python",
   "name": "python3"
  },
  "language_info": {
   "codemirror_mode": {
    "name": "ipython",
    "version": 3
   },
   "file_extension": ".py",
   "mimetype": "text/x-python",
   "name": "python",
   "nbconvert_exporter": "python",
   "pygments_lexer": "ipython3",
   "version": "3.11.3"
  },
  "vscode": {
   "interpreter": {
    "hash": "39c10650315d977fb13868ea1402e99f3e10e9885c2c202e692ae90b8995050d"
   }
  }
 },
 "nbformat": 4,
 "nbformat_minor": 5
}
