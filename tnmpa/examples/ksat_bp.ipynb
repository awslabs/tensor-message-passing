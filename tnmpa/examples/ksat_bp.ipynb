{
 "cells": [
  {
   "cell_type": "code",
   "execution_count": 1,
   "id": "69a54c86",
   "metadata": {},
   "outputs": [],
   "source": [
    "%load_ext autoreload\n",
    "%autoreload 2"
   ]
  },
  {
   "cell_type": "code",
   "execution_count": 2,
   "id": "462cbbba-8207-4bcf-9059-24849cb5eeaa",
   "metadata": {},
   "outputs": [],
   "source": [
    "from tnmpa import BeliefPropagation, TensorBeliefPropagation, KSAT"
   ]
  },
  {
   "cell_type": "code",
   "execution_count": 3,
   "id": "e40a5328-170e-4604-a032-9ccfc0511d96",
   "metadata": {},
   "outputs": [],
   "source": [
    "import random\n",
    "import numpy as np"
   ]
  },
  {
   "cell_type": "code",
   "execution_count": 4,
   "id": "57a1b129-2ec1-4c27-ae5a-c73743fce012",
   "metadata": {},
   "outputs": [],
   "source": [
    "# paramter the controls the complexity of the problem, ratio between number of clauses and number of variables\n",
    "# for alpha > 3.5 BP should start to fail\n",
    "alpha = 1.3\n",
    "\n",
    "# number of variables\n",
    "N = 50\n",
    "\n",
    "# numer of clauses\n",
    "M = int(alpha * N)\n",
    "\n",
    "# K of K-SAT\n",
    "K = 3"
   ]
  },
  {
   "cell_type": "code",
   "execution_count": 5,
   "id": "be2ded93-a95e-4c64-b568-0625db73d069",
   "metadata": {},
   "outputs": [],
   "source": [
    "seed = 0\n",
    "instance = KSAT(N, M, K, seed = seed)"
   ]
  },
  {
   "cell_type": "code",
   "execution_count": 6,
   "id": "a46e7857-f27b-4875-9877-d8db88089fee",
   "metadata": {},
   "outputs": [],
   "source": [
    "ksol_sp = BeliefPropagation(instance)"
   ]
  },
  {
   "cell_type": "code",
   "execution_count": 7,
   "id": "4f11389d-319d-4831-bb0d-b9eafddfae02",
   "metadata": {},
   "outputs": [
    {
     "name": "stdout",
     "output_type": "stream",
     "text": [
      "M\tN\talpha\tcount\tfxvar\tbias\t\tval\titers\tdist\t\tMP time\titer time\n",
      "59\t46\t1.28\t0\tv39\t-8.23e-01\tTrue\t22\t8.56e-04\t0.22\t0.008\n",
      "55\t45\t1.22\t0\tv40\t-5.71e-01\tTrue\t8\t8.85e-04\t0.07\t0.008\n",
      "51\t44\t1.16\t0\tv38\t5.14e-01\tFalse\t10\t8.03e-04\t0.08\t0.007\n",
      "48\t43\t1.12\t0\tv20\t5.17e-01\tFalse\t12\t3.54e-04\t0.09\t0.007\n",
      "45\t42\t1.07\t0\tv7\t4.66e-01\tFalse\t10\t8.01e-04\t0.07\t0.006\n",
      "43\t41\t1.05\t0\tv45\t5.31e-01\tFalse\t12\t4.84e-04\t0.08\t0.006\n",
      "40\t40\t1.00\t0\tv25\t-5.13e-01\tTrue\t12\t3.92e-04\t0.08\t0.006\n",
      "36\t39\t0.92\t0\tv4\t4.59e-01\tFalse\t10\t6.23e-04\t0.06\t0.005\n",
      "33\t38\t0.87\t0\tv34\t4.56e-01\tFalse\t10\t6.63e-04\t0.05\t0.004\n",
      "29\t37\t0.78\t0\tv13\t5.27e-01\tFalse\t11\t7.69e-04\t0.05\t0.004\n",
      "27\t36\t0.75\t0\tv43\t-5.75e-01\tTrue\t10\t4.12e-04\t0.04\t0.004\n",
      "24\t35\t0.69\t0\tv2\t3.92e-01\tFalse\t8\t9.52e-04\t0.03\t0.005\n",
      "22\t34\t0.65\t0\tv19\t-3.80e-01\tTrue\t10\t8.34e-04\t0.04\t0.003\n",
      "20\t33\t0.61\t0\tv44\t-3.99e-01\tTrue\t9\t8.79e-04\t0.03\t0.003\n",
      "19\t32\t0.59\t0\tv9\t4.08e-01\tFalse\t8\t7.63e-04\t0.02\t0.003\n",
      "17\t31\t0.55\t0\tv46\t-3.35e-01\tTrue\t10\t2.43e-04\t0.03\t0.002\n",
      "15\t30\t0.50\t0\tv15\t-3.26e-01\tTrue\t8\t4.48e-04\t0.02\t0.002\n",
      "13\t29\t0.45\t0\tv30\t-3.04e-01\tTrue\t8\t2.36e-04\t0.02\t0.003\n",
      "11\t28\t0.39\t0\tv3\t-2.61e-01\tTrue\t6\t7.15e-04\t0.01\t0.002\n",
      "9\t27\t0.33\t0\tv6\t-2.59e-01\tTrue\t6\t4.78e-04\t0.01\t0.001\n",
      "7\t26\t0.27\t0\tv14\t2.58e-01\tFalse\t6\t6.75e-04\t0.01\t0.001\n",
      "6\t25\t0.24\t0\tv8\t2.00e-01\tFalse\t3\t9.36e-05\t0.00\t0.001\n",
      "5\t24\t0.21\t0\tv33\t1.90e-01\tFalse\t5\t0.00e+00\t0.00\t0.001\n",
      "3\t23\t0.13\t0\tv28\t-2.80e-01\tTrue\t3\t0.00e+00\t0.00\t0.001\n",
      "2\t22\t0.09\t0\tv17\t1.67e-01\tFalse\t1\t0.00e+00\t0.00\t0.001\n",
      "1\t21\t0.05\t0\tv1\t1.43e-01\tFalse\t3\t0.00e+00\t0.00\t0.000\n",
      "0\t20\t0.00\t0\tv48\t1.43e-01\tFalse\t1\t0.00e+00\t0.00\t0.000\n"
     ]
    }
   ],
   "source": [
    "tol = 1e-3\n",
    "status = ksol_sp.solve(\n",
    "    tol=tol,\n",
    "    #env_noise=0.001,\n",
    "    #threshold_bias=1e-14,\n",
    ")"
   ]
  },
  {
   "cell_type": "code",
   "execution_count": 8,
   "id": "a5fbdbe9-0356-4394-8ba0-bbb6ddb4b137",
   "metadata": {},
   "outputs": [
    {
     "data": {
      "text/plain": [
       "0"
      ]
     },
     "execution_count": 8,
     "metadata": {},
     "output_type": "execute_result"
    }
   ],
   "source": [
    "for v in ksol_sp.instance.variables:\n",
    "    ksol_sp.fixed_vars.append(v)\n",
    "    ksol_sp.vals.append(True)\n",
    "count, sol = ksol_sp.check_solution(ksol_sp.fixed_vars, ksol_sp.vals)\n",
    "count"
   ]
  },
  {
   "cell_type": "code",
   "execution_count": 9,
   "id": "9234bd18",
   "metadata": {},
   "outputs": [
    {
     "data": {
      "text/plain": [
       "13.862943611198906"
      ]
     },
     "execution_count": 9,
     "metadata": {},
     "output_type": "execute_result"
    }
   ],
   "source": [
    "ksol_sp.entropy"
   ]
  },
  {
   "cell_type": "code",
   "execution_count": 11,
   "id": "c86991c0-34ef-4eca-bde3-c79d2bdf0b57",
   "metadata": {},
   "outputs": [],
   "source": [
    "instance = KSAT(N, M, K, seed=seed)"
   ]
  },
  {
   "attachments": {},
   "cell_type": "markdown",
   "id": "9d877454",
   "metadata": {},
   "source": [
    "### Tensorized dense version (much slower)"
   ]
  },
  {
   "cell_type": "code",
   "execution_count": 12,
   "id": "4468fb86-9020-486b-a09a-254996535021",
   "metadata": {},
   "outputs": [],
   "source": [
    "dense_ksol_sp = TensorBeliefPropagation(instance)"
   ]
  },
  {
   "cell_type": "code",
   "execution_count": 13,
   "id": "86831af3-7386-44e1-9c3e-bd9413b3f430",
   "metadata": {},
   "outputs": [
    {
     "name": "stdout",
     "output_type": "stream",
     "text": [
      "M\tN\talpha\tcount\tfxvar\tbias\t\tval\titers\tdist\t\tMP time\titer time\n",
      "59\t46\t1.28\t0\tv39\t-8.23e-01\tTrue\t22\t8.56e-04\t1.17\t0.054\n",
      "55\t45\t1.22\t0\tv40\t-5.71e-01\tTrue\t8\t8.85e-04\t0.38\t0.046\n",
      "51\t44\t1.16\t0\tv38\t5.14e-01\tFalse\t10\t8.03e-04\t0.45\t0.044\n",
      "48\t43\t1.12\t0\tv20\t5.17e-01\tFalse\t12\t3.54e-04\t0.48\t0.040\n",
      "45\t42\t1.07\t0\tv7\t4.66e-01\tFalse\t10\t8.01e-04\t0.38\t0.035\n",
      "43\t41\t1.05\t0\tv45\t5.31e-01\tFalse\t12\t4.84e-04\t0.46\t0.032\n",
      "40\t40\t1.00\t0\tv25\t-5.13e-01\tTrue\t12\t3.92e-04\t0.39\t0.033\n",
      "36\t39\t0.92\t0\tv4\t4.59e-01\tFalse\t10\t6.23e-04\t0.31\t0.031\n",
      "33\t38\t0.87\t0\tv34\t4.56e-01\tFalse\t10\t6.63e-04\t0.28\t0.029\n",
      "29\t37\t0.78\t0\tv13\t5.27e-01\tFalse\t11\t7.69e-04\t0.26\t0.025\n",
      "27\t36\t0.75\t0\tv43\t-5.75e-01\tTrue\t10\t4.12e-04\t0.19\t0.020\n",
      "24\t35\t0.69\t0\tv2\t3.92e-01\tFalse\t8\t9.52e-04\t0.17\t0.019\n",
      "22\t34\t0.65\t0\tv19\t-3.80e-01\tTrue\t10\t8.34e-04\t0.15\t0.015\n",
      "20\t33\t0.61\t0\tv44\t-3.99e-01\tTrue\t9\t8.79e-04\t0.14\t0.015\n",
      "19\t32\t0.59\t0\tv9\t4.08e-01\tFalse\t8\t7.63e-04\t0.10\t0.012\n",
      "17\t31\t0.55\t0\tv46\t-3.35e-01\tTrue\t10\t2.43e-04\t0.13\t0.013\n",
      "15\t30\t0.50\t0\tv15\t-3.26e-01\tTrue\t8\t4.48e-04\t0.10\t0.012\n",
      "13\t29\t0.45\t0\tv30\t-3.04e-01\tTrue\t8\t2.36e-04\t0.07\t0.008\n",
      "11\t28\t0.39\t0\tv3\t-2.61e-01\tTrue\t6\t7.15e-04\t0.04\t0.007\n",
      "9\t27\t0.33\t0\tv6\t-2.59e-01\tTrue\t6\t4.78e-04\t0.04\t0.008\n",
      "7\t26\t0.27\t0\tv14\t2.58e-01\tFalse\t6\t6.75e-04\t0.03\t0.006\n",
      "6\t25\t0.24\t0\tv8\t2.00e-01\tFalse\t3\t9.36e-05\t0.01\t0.004\n",
      "5\t24\t0.21\t0\tv33\t1.90e-01\tFalse\t5\t0.00e+00\t0.02\t0.004\n",
      "3\t23\t0.13\t0\tv28\t-2.80e-01\tTrue\t3\t0.00e+00\t0.01\t0.003\n",
      "2\t22\t0.09\t0\tv37\t-1.67e-01\tTrue\t1\t0.00e+00\t0.00\t0.002\n",
      "1\t21\t0.05\t0\tv1\t1.43e-01\tFalse\t3\t0.00e+00\t0.00\t0.001\n",
      "0\t20\t0.00\t0\tv48\t1.43e-01\tFalse\t1\t0.00e+00\t0.00\t0.001\n"
     ]
    }
   ],
   "source": [
    "tol = 1e-3\n",
    "status = dense_ksol_sp.solve(\n",
    "    tol=tol,\n",
    "    #env_noise=0.001,\n",
    "    #threshold_bias=1e-14,\n",
    ")"
   ]
  },
  {
   "cell_type": "code",
   "execution_count": 14,
   "id": "ab30e90c-f987-4687-a18b-0ec780a4896e",
   "metadata": {},
   "outputs": [
    {
     "data": {
      "text/plain": [
       "13.862943611198906"
      ]
     },
     "execution_count": 14,
     "metadata": {},
     "output_type": "execute_result"
    }
   ],
   "source": [
    "dense_ksol_sp.entropy"
   ]
  },
  {
   "cell_type": "code",
   "execution_count": null,
   "id": "361e2e0d",
   "metadata": {},
   "outputs": [],
   "source": []
  }
 ],
 "metadata": {
  "kernelspec": {
   "display_name": "Python 3 (ipykernel)",
   "language": "python",
   "name": "python3"
  },
  "language_info": {
   "codemirror_mode": {
    "name": "ipython",
    "version": 3
   },
   "file_extension": ".py",
   "mimetype": "text/x-python",
   "name": "python",
   "nbconvert_exporter": "python",
   "pygments_lexer": "ipython3",
   "version": "3.9.7"
  },
  "vscode": {
   "interpreter": {
    "hash": "39c10650315d977fb13868ea1402e99f3e10e9885c2c202e692ae90b8995050d"
   }
  }
 },
 "nbformat": 4,
 "nbformat_minor": 5
}
