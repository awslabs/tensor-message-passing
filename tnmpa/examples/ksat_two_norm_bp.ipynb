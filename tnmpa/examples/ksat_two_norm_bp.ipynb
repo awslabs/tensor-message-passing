{
 "cells": [
  {
   "cell_type": "code",
   "execution_count": 1,
   "id": "535b66c9",
   "metadata": {},
   "outputs": [],
   "source": [
    "%load_ext autoreload\n",
    "%autoreload 2"
   ]
  },
  {
   "cell_type": "code",
   "execution_count": 3,
   "id": "68d5206d-19fa-4e0b-9665-46c9b98ba965",
   "metadata": {},
   "outputs": [],
   "source": [
    "from tnmpa import KSAT, BeliefPropagation, TensorBeliefPropagation, SurveyPropagation"
   ]
  },
  {
   "cell_type": "code",
   "execution_count": 4,
   "id": "12ef5f05-bbfd-40a5-a896-4129fb52c574",
   "metadata": {},
   "outputs": [],
   "source": [
    "from tnmpa import TwoNormBeliefPropagation"
   ]
  },
  {
   "cell_type": "code",
   "execution_count": 5,
   "id": "e40a5328-170e-4604-a032-9ccfc0511d96",
   "metadata": {},
   "outputs": [],
   "source": [
    "import random\n",
    "import numpy as np\n",
    "from scipy.linalg import svdvals"
   ]
  },
  {
   "cell_type": "code",
   "execution_count": 6,
   "id": "57a1b129-2ec1-4c27-ae5a-c73743fce012",
   "metadata": {},
   "outputs": [],
   "source": [
    "# paramter the controls the complexity of the problem, ratio between number of clauses and number of variables\n",
    "# for alpha > 3.5 BP should start to fail\n",
    "alpha = 2.1\n",
    "\n",
    "# number of variables\n",
    "N = 50\n",
    "\n",
    "# numer of clauses\n",
    "M = int(alpha * N)\n",
    "\n",
    "# K of K-SAT\n",
    "K = 3\n",
    "\n",
    "tol = 1e-3\n",
    "seed = 0"
   ]
  },
  {
   "cell_type": "code",
   "execution_count": 7,
   "id": "be2ded93-a95e-4c64-b568-0625db73d069",
   "metadata": {},
   "outputs": [],
   "source": [
    "instance = KSAT(N, M, K, seed = seed)"
   ]
  },
  {
   "cell_type": "code",
   "execution_count": 8,
   "id": "a46e7857-f27b-4875-9877-d8db88089fee",
   "metadata": {},
   "outputs": [],
   "source": [
    "twonorm_ksol_sp = TwoNormBeliefPropagation(instance)"
   ]
  },
  {
   "cell_type": "code",
   "execution_count": 9,
   "id": "1de150c0-5ac3-494d-b4a0-3b96fd8687d2",
   "metadata": {},
   "outputs": [],
   "source": [
    "status = twonorm_ksol_sp.MP(\n",
    "    twonorm_ksol_sp.envs_tensors, \n",
    "    twonorm_ksol_sp.instance, \n",
    "    tol=tol,\n",
    ")"
   ]
  },
  {
   "cell_type": "code",
   "execution_count": 10,
   "id": "1db5df10-11c9-49a9-8e4d-aedab52a6b05",
   "metadata": {},
   "outputs": [
    {
     "data": {
      "text/plain": [
       "array([0.50428136, 0.49571864])"
      ]
     },
     "execution_count": 10,
     "metadata": {},
     "output_type": "execute_result"
    }
   ],
   "source": [
    "twonorm_ksol_sp.variable_marginal(\"v2\")"
   ]
  },
  {
   "cell_type": "code",
   "execution_count": 11,
   "id": "c86991c0-34ef-4eca-bde3-c79d2bdf0b57",
   "metadata": {},
   "outputs": [],
   "source": [
    "instance = KSAT(N, M, K, seed=seed)"
   ]
  },
  {
   "cell_type": "code",
   "execution_count": 12,
   "id": "4468fb86-9020-486b-a09a-254996535021",
   "metadata": {},
   "outputs": [],
   "source": [
    "ksol_sp = BeliefPropagation(instance)"
   ]
  },
  {
   "cell_type": "code",
   "execution_count": 13,
   "id": "86831af3-7386-44e1-9c3e-bd9413b3f430",
   "metadata": {},
   "outputs": [],
   "source": [
    "status = ksol_sp.MP(\n",
    "    ksol_sp.envs_tensors, \n",
    "    ksol_sp.instance, \n",
    "    tol=tol,\n",
    ")"
   ]
  },
  {
   "cell_type": "code",
   "execution_count": 14,
   "id": "1db7d073-107c-4d24-b446-4b3c69be85c0",
   "metadata": {},
   "outputs": [
    {
     "data": {
      "text/plain": [
       "array([0.50440257, 0.49559743])"
      ]
     },
     "execution_count": 14,
     "metadata": {},
     "output_type": "execute_result"
    }
   ],
   "source": [
    "ksol_sp.variable_marginal(\"v2\")"
   ]
  },
  {
   "attachments": {},
   "cell_type": "markdown",
   "id": "660d8bc5-21e7-4294-9660-33a9f7309afd",
   "metadata": {},
   "source": [
    "## Solve"
   ]
  },
  {
   "cell_type": "code",
   "execution_count": 15,
   "id": "2b565e9b-8b2e-454a-88ad-b9c9a3fc0dc5",
   "metadata": {},
   "outputs": [
    {
     "name": "stdout",
     "output_type": "stream",
     "text": [
      "M\tN\talpha\tcount\tfxvar\tbias\t\tval\titers\tdist\t\tMP time\titer time\n",
      "97\t49\t1.98\t0\tv45\t9.27e-01\tFalse\t1\t7.81e-04\t0.07\t0.070\n",
      "92\t48\t1.92\t0\tv40\t-8.18e-01\tTrue\t13\t8.27e-04\t0.78\t0.057\n",
      "85\t47\t1.81\t0\tv39\t-8.33e-01\tTrue\t14\t7.93e-04\t0.78\t0.050\n",
      "81\t46\t1.76\t0\tv19\t-7.90e-01\tTrue\t15\t8.63e-04\t0.71\t0.046\n",
      "77\t45\t1.71\t0\tv7\t7.51e-01\tFalse\t17\t7.50e-04\t0.76\t0.042\n",
      "72\t44\t1.64\t0\tv26\t7.06e-01\tFalse\t16\t7.89e-04\t0.67\t0.040\n",
      "69\t43\t1.60\t0\tv24\t-7.34e-01\tTrue\t16\t9.20e-04\t0.63\t0.038\n",
      "63\t42\t1.50\t0\tv21\t-6.92e-01\tTrue\t16\t7.92e-04\t0.67\t0.037\n",
      "58\t41\t1.41\t0\tv35\t7.17e-01\tFalse\t14\t9.33e-04\t0.48\t0.033\n",
      "54\t40\t1.35\t0\tv3\t-7.02e-01\tTrue\t15\t5.96e-04\t0.55\t0.032\n",
      "50\t39\t1.28\t0\tv8\t6.72e-01\tFalse\t14\t8.35e-04\t0.42\t0.029\n",
      "46\t38\t1.21\t0\tv25\t-6.51e-01\tTrue\t15\t9.30e-04\t0.43\t0.031\n",
      "43\t37\t1.16\t0\tv38\t6.66e-01\tFalse\t15\t9.50e-04\t0.38\t0.025\n",
      "40\t36\t1.11\t0\tv6\t-6.89e-01\tTrue\t15\t9.72e-04\t0.36\t0.023\n",
      "36\t35\t1.03\t0\tv44\t-7.50e-01\tTrue\t14\t9.84e-04\t0.31\t0.022\n",
      "31\t34\t0.91\t0\tv4\t5.29e-01\tFalse\t13\t7.39e-04\t0.27\t0.019\n",
      "29\t33\t0.88\t0\tv42\t-5.10e-01\tTrue\t14\t9.87e-04\t0.27\t0.018\n",
      "26\t32\t0.81\t0\tv28\t5.18e-01\tFalse\t13\t7.03e-04\t0.21\t0.016\n",
      "24\t31\t0.77\t0\tv13\t-5.10e-01\tTrue\t14\t5.62e-04\t0.20\t0.013\n",
      "21\t30\t0.70\t0\tv34\t5.16e-01\tFalse\t11\t5.91e-04\t0.15\t0.012\n",
      "19\t29\t0.66\t0\tv18\t-5.40e-01\tTrue\t11\t9.07e-04\t0.13\t0.011\n",
      "15\t28\t0.54\t0\tv2\t5.43e-01\tFalse\t10\t9.05e-04\t0.10\t0.009\n",
      "13\t27\t0.48\t0\tv5\t4.93e-01\tFalse\t8\t7.89e-04\t0.07\t0.008\n",
      "10\t26\t0.38\t0\tv22\t-4.66e-01\tTrue\t8\t6.33e-04\t0.06\t0.008\n",
      "9\t25\t0.36\t0\tv27\t-3.80e-01\tTrue\t8\t3.93e-04\t0.04\t0.005\n",
      "8\t24\t0.33\t0\tv20\t-3.33e-01\tTrue\t7\t9.76e-04\t0.03\t0.004\n",
      "6\t23\t0.26\t0\tv1\t2.86e-01\tFalse\t1\t2.68e-04\t0.00\t0.005\n",
      "4\t22\t0.18\t0\tv0\t-2.64e-01\tTrue\t6\t6.89e-04\t0.02\t0.003\n",
      "2\t21\t0.10\t0\tv10\t2.43e-01\tFalse\t6\t8.15e-04\t0.01\t0.002\n",
      "1\t20\t0.05\t0\tv17\t-1.43e-01\tTrue\t3\t0.00e+00\t0.00\t0.001\n",
      "0\t19\t0.00\t0\tv36\t1.43e-01\tFalse\t1\t0.00e+00\t0.00\t0.001\n"
     ]
    }
   ],
   "source": [
    "tol = 1e-3\n",
    "status = twonorm_ksol_sp.solve(\n",
    "    tol=tol,\n",
    ")"
   ]
  },
  {
   "cell_type": "code",
   "execution_count": 16,
   "id": "9e7b021d-dd54-463c-9251-f9f7bed9bd8a",
   "metadata": {},
   "outputs": [
    {
     "name": "stdout",
     "output_type": "stream",
     "text": [
      "M\tN\talpha\tcount\tfxvar\tbias\t\tval\titers\tdist\t\tMP time\titer time\n",
      "97\t49\t1.98\t0\tv45\t9.27e-01\tFalse\t1\t8.92e-04\t0.02\t0.016\n",
      "92\t48\t1.92\t0\tv40\t-8.18e-01\tTrue\t12\t6.71e-04\t0.15\t0.011\n",
      "85\t47\t1.81\t0\tv39\t-8.33e-01\tTrue\t12\t8.62e-04\t0.15\t0.009\n",
      "81\t46\t1.76\t0\tv19\t-7.90e-01\tTrue\t12\t8.02e-04\t0.12\t0.008\n",
      "77\t45\t1.71\t0\tv7\t7.51e-01\tFalse\t16\t6.33e-04\t0.15\t0.009\n",
      "72\t44\t1.64\t0\tv26\t7.06e-01\tFalse\t15\t9.76e-04\t0.13\t0.008\n",
      "69\t43\t1.60\t0\tv24\t-7.34e-01\tTrue\t14\t8.51e-04\t0.12\t0.009\n",
      "63\t42\t1.50\t0\tv21\t-6.92e-01\tTrue\t14\t9.34e-04\t0.13\t0.008\n",
      "58\t41\t1.41\t0\tv35\t7.17e-01\tFalse\t14\t4.78e-04\t0.12\t0.009\n",
      "54\t40\t1.35\t0\tv3\t-7.02e-01\tTrue\t12\t6.53e-04\t0.10\t0.006\n",
      "50\t39\t1.28\t0\tv8\t6.72e-01\tFalse\t14\t4.23e-04\t0.09\t0.006\n",
      "46\t38\t1.21\t0\tv25\t-6.52e-01\tTrue\t12\t9.84e-04\t0.08\t0.006\n",
      "43\t37\t1.16\t0\tv38\t6.66e-01\tFalse\t14\t5.28e-04\t0.08\t0.005\n",
      "40\t36\t1.11\t0\tv6\t-6.89e-01\tTrue\t14\t6.76e-04\t0.07\t0.004\n",
      "36\t35\t1.03\t0\tv44\t-7.50e-01\tTrue\t14\t4.93e-04\t0.06\t0.004\n",
      "31\t34\t0.91\t0\tv4\t5.29e-01\tFalse\t12\t5.63e-04\t0.06\t0.005\n",
      "29\t33\t0.88\t0\tv42\t-5.10e-01\tTrue\t12\t5.23e-04\t0.05\t0.004\n",
      "26\t32\t0.81\t0\tv28\t5.19e-01\tFalse\t12\t5.61e-04\t0.04\t0.003\n",
      "24\t31\t0.77\t0\tv13\t-5.10e-01\tTrue\t11\t8.16e-04\t0.03\t0.002\n",
      "21\t30\t0.70\t0\tv34\t5.16e-01\tFalse\t10\t5.87e-04\t0.03\t0.003\n",
      "19\t29\t0.66\t0\tv18\t-5.40e-01\tTrue\t10\t8.40e-04\t0.03\t0.003\n",
      "15\t28\t0.54\t0\tv2\t5.43e-01\tFalse\t10\t4.53e-04\t0.03\t0.003\n",
      "13\t27\t0.48\t0\tv5\t4.93e-01\tFalse\t8\t7.15e-04\t0.02\t0.002\n",
      "10\t26\t0.38\t0\tv22\t-4.66e-01\tTrue\t8\t3.17e-04\t0.01\t0.002\n",
      "9\t25\t0.36\t0\tv27\t-3.80e-01\tTrue\t8\t2.55e-04\t0.01\t0.001\n",
      "8\t24\t0.33\t0\tv20\t-3.33e-01\tTrue\t7\t9.76e-04\t0.01\t0.001\n",
      "6\t23\t0.26\t0\tv1\t2.86e-01\tFalse\t1\t1.34e-04\t0.00\t0.001\n",
      "4\t22\t0.18\t0\tv0\t-2.64e-01\tTrue\t6\t3.45e-04\t0.01\t0.001\n",
      "2\t21\t0.10\t0\tv10\t2.43e-01\tFalse\t6\t4.07e-04\t0.00\t0.001\n",
      "1\t20\t0.05\t0\tv17\t-1.43e-01\tTrue\t3\t0.00e+00\t0.00\t0.000\n",
      "0\t19\t0.00\t0\tv36\t1.43e-01\tFalse\t1\t0.00e+00\t0.00\t0.000\n"
     ]
    }
   ],
   "source": [
    "tol = 1e-3\n",
    "status = ksol_sp.solve(\n",
    "    tol=tol,\n",
    ")"
   ]
  },
  {
   "cell_type": "code",
   "execution_count": null,
   "id": "311b83fc-9123-45be-a08a-05d836e5c0ab",
   "metadata": {},
   "outputs": [],
   "source": []
  }
 ],
 "metadata": {
  "kernelspec": {
   "display_name": "Python 3 (ipykernel)",
   "language": "python",
   "name": "python3"
  },
  "language_info": {
   "codemirror_mode": {
    "name": "ipython",
    "version": 3
   },
   "file_extension": ".py",
   "mimetype": "text/x-python",
   "name": "python",
   "nbconvert_exporter": "python",
   "pygments_lexer": "ipython3",
   "version": "3.11.3"
  },
  "vscode": {
   "interpreter": {
    "hash": "39c10650315d977fb13868ea1402e99f3e10e9885c2c202e692ae90b8995050d"
   }
  }
 },
 "nbformat": 4,
 "nbformat_minor": 5
}
