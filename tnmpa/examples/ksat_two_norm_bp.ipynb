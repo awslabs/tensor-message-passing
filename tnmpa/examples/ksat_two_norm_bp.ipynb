{
 "cells": [
  {
   "cell_type": "code",
   "execution_count": null,
   "id": "68d5206d-19fa-4e0b-9665-46c9b98ba965",
   "metadata": {},
   "outputs": [],
   "source": [
    "from tnmpa import KsatInstance, BeliefPropagation, TensorBeliefPropagation, SurveyPropagation"
   ]
  },
  {
   "cell_type": "code",
   "execution_count": null,
   "id": "12ef5f05-bbfd-40a5-a896-4129fb52c574",
   "metadata": {},
   "outputs": [],
   "source": [
    "from tnmpa import TwoNormBeliefPropagation"
   ]
  },
  {
   "cell_type": "code",
   "execution_count": null,
   "id": "e40a5328-170e-4604-a032-9ccfc0511d96",
   "metadata": {},
   "outputs": [],
   "source": [
    "import random\n",
    "import numpy as np\n",
    "from scipy.linalg import svdvals"
   ]
  },
  {
   "cell_type": "code",
   "execution_count": null,
   "id": "57a1b129-2ec1-4c27-ae5a-c73743fce012",
   "metadata": {},
   "outputs": [],
   "source": [
    "# paramter the controls the complexity of the problem, ratio between number of clauses and number of variables\n",
    "# for alpha > 3.5 BP should start to fail\n",
    "alpha = 3.1\n",
    "\n",
    "# number of variables\n",
    "N = 50\n",
    "\n",
    "# numer of clauses\n",
    "M = int(alpha * N)\n",
    "\n",
    "# K of K-SAT\n",
    "K = 3\n",
    "\n",
    "tol = 1e-3\n",
    "seed = 0"
   ]
  },
  {
   "cell_type": "code",
   "execution_count": null,
   "id": "be2ded93-a95e-4c64-b568-0625db73d069",
   "metadata": {},
   "outputs": [],
   "source": [
    "instance = KsatInstance(N, M, K, seed = seed)"
   ]
  },
  {
   "cell_type": "code",
   "execution_count": null,
   "id": "a46e7857-f27b-4875-9877-d8db88089fee",
   "metadata": {},
   "outputs": [],
   "source": [
    "twonorm_ksol_sp = TwoNormBeliefPropagation(instance)"
   ]
  },
  {
   "cell_type": "code",
   "execution_count": null,
   "id": "1de150c0-5ac3-494d-b4a0-3b96fd8687d2",
   "metadata": {},
   "outputs": [],
   "source": [
    "status = twonorm_ksol_sp.MP(\n",
    "    twonorm_ksol_sp.envs_tensors, \n",
    "    twonorm_ksol_sp.instance, \n",
    "    tol=tol,\n",
    ")"
   ]
  },
  {
   "cell_type": "code",
   "execution_count": null,
   "id": "1db5df10-11c9-49a9-8e4d-aedab52a6b05",
   "metadata": {},
   "outputs": [],
   "source": [
    "twonorm_ksol_sp.variable_marginal(2)"
   ]
  },
  {
   "cell_type": "code",
   "execution_count": null,
   "id": "c86991c0-34ef-4eca-bde3-c79d2bdf0b57",
   "metadata": {},
   "outputs": [],
   "source": [
    "instance = KsatInstance(N, M, K, seed=seed)"
   ]
  },
  {
   "cell_type": "code",
   "execution_count": null,
   "id": "4468fb86-9020-486b-a09a-254996535021",
   "metadata": {},
   "outputs": [],
   "source": [
    "ksol_sp = BeliefPropagation(instance)"
   ]
  },
  {
   "cell_type": "code",
   "execution_count": null,
   "id": "86831af3-7386-44e1-9c3e-bd9413b3f430",
   "metadata": {},
   "outputs": [],
   "source": [
    "status = ksol_sp.MP(\n",
    "    ksol_sp.envs_tensors, \n",
    "    ksol_sp.instance, \n",
    "    tol=tol,\n",
    ")"
   ]
  },
  {
   "cell_type": "code",
   "execution_count": null,
   "id": "1db7d073-107c-4d24-b446-4b3c69be85c0",
   "metadata": {},
   "outputs": [],
   "source": [
    "ksol_sp.variable_marginal(2)"
   ]
  },
  {
   "attachments": {},
   "cell_type": "markdown",
   "id": "660d8bc5-21e7-4294-9660-33a9f7309afd",
   "metadata": {},
   "source": [
    "## Solve"
   ]
  },
  {
   "cell_type": "code",
   "execution_count": null,
   "id": "2b565e9b-8b2e-454a-88ad-b9c9a3fc0dc5",
   "metadata": {},
   "outputs": [],
   "source": [
    "tol = 1e-3\n",
    "status = twonorm_ksol_sp.solve(\n",
    "    tol=tol,\n",
    ")"
   ]
  },
  {
   "cell_type": "code",
   "execution_count": null,
   "id": "9e7b021d-dd54-463c-9251-f9f7bed9bd8a",
   "metadata": {},
   "outputs": [],
   "source": [
    "tol = 1e-3\n",
    "status = ksol_sp.solve(\n",
    "    tol=tol,\n",
    ")"
   ]
  },
  {
   "cell_type": "code",
   "execution_count": null,
   "id": "311b83fc-9123-45be-a08a-05d836e5c0ab",
   "metadata": {},
   "outputs": [],
   "source": []
  }
 ],
 "metadata": {
  "kernelspec": {
   "display_name": "Python 3 (ipykernel)",
   "language": "python",
   "name": "python3"
  },
  "language_info": {
   "codemirror_mode": {
    "name": "ipython",
    "version": 3
   },
   "file_extension": ".py",
   "mimetype": "text/x-python",
   "name": "python",
   "nbconvert_exporter": "python",
   "pygments_lexer": "ipython3",
   "version": "3.11.3"
  },
  "vscode": {
   "interpreter": {
    "hash": "39c10650315d977fb13868ea1402e99f3e10e9885c2c202e692ae90b8995050d"
   }
  }
 },
 "nbformat": 4,
 "nbformat_minor": 5
}
