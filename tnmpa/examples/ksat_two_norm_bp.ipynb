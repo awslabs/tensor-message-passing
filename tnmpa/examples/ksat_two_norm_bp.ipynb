{
 "cells": [
  {
   "cell_type": "code",
   "execution_count": 1,
   "id": "a378cbd7-9e96-4bf6-b425-41bc80dac210",
   "metadata": {},
   "outputs": [],
   "source": [
    "%load_ext autoreload\n",
    "%autoreload 2"
   ]
  },
  {
   "cell_type": "code",
   "execution_count": 2,
   "id": "68d5206d-19fa-4e0b-9665-46c9b98ba965",
   "metadata": {},
   "outputs": [],
   "source": [
    "from tnmpa import KsatInstance, BeliefPropagation, TensorBeliefPropagation, SurveyPropagation"
   ]
  },
  {
   "cell_type": "code",
   "execution_count": 3,
   "id": "12ef5f05-bbfd-40a5-a896-4129fb52c574",
   "metadata": {},
   "outputs": [],
   "source": [
    "from tnmpa import TwoNormBeliefPropagation"
   ]
  },
  {
   "cell_type": "code",
   "execution_count": 4,
   "id": "e40a5328-170e-4604-a032-9ccfc0511d96",
   "metadata": {},
   "outputs": [],
   "source": [
    "import random\n",
    "import numpy as np\n",
    "from scipy.linalg import svdvals"
   ]
  },
  {
   "cell_type": "code",
   "execution_count": 9,
   "id": "57a1b129-2ec1-4c27-ae5a-c73743fce012",
   "metadata": {},
   "outputs": [],
   "source": [
    "# paramter the controls the complexity of the problem, ratio between number of clauses and number of variables\n",
    "# for alpha > 3.5 BP should start to fail\n",
    "alpha = 3.1\n",
    "\n",
    "# number of variables\n",
    "N = 50\n",
    "\n",
    "# numer of clauses\n",
    "M = int(alpha * N)\n",
    "\n",
    "# K of K-SAT\n",
    "K = 3\n",
    "\n",
    "tol = 1e-3\n",
    "seed = 0"
   ]
  },
  {
   "cell_type": "code",
   "execution_count": 10,
   "id": "be2ded93-a95e-4c64-b568-0625db73d069",
   "metadata": {},
   "outputs": [],
   "source": [
    "instance = KsatInstance(N, M, K, seed = seed)"
   ]
  },
  {
   "cell_type": "code",
   "execution_count": 11,
   "id": "a46e7857-f27b-4875-9877-d8db88089fee",
   "metadata": {},
   "outputs": [],
   "source": [
    "twonorm_ksol_sp = TwoNormBeliefPropagation(instance)"
   ]
  },
  {
   "cell_type": "code",
   "execution_count": 12,
   "id": "1de150c0-5ac3-494d-b4a0-3b96fd8687d2",
   "metadata": {},
   "outputs": [],
   "source": [
    "status = twonorm_ksol_sp.MP(\n",
    "    twonorm_ksol_sp.envs_tensors, \n",
    "    twonorm_ksol_sp.instance, \n",
    "    tol=tol,\n",
    ")"
   ]
  },
  {
   "cell_type": "code",
   "execution_count": 13,
   "id": "1db5df10-11c9-49a9-8e4d-aedab52a6b05",
   "metadata": {},
   "outputs": [
    {
     "data": {
      "text/plain": [
       "array([0.50267726, 0.49732274])"
      ]
     },
     "execution_count": 13,
     "metadata": {},
     "output_type": "execute_result"
    }
   ],
   "source": [
    "twonorm_ksol_sp.variable_marginal(2)"
   ]
  },
  {
   "cell_type": "code",
   "execution_count": 14,
   "id": "c86991c0-34ef-4eca-bde3-c79d2bdf0b57",
   "metadata": {},
   "outputs": [],
   "source": [
    "instance = KsatInstance(N, M, K, seed=seed)"
   ]
  },
  {
   "cell_type": "code",
   "execution_count": 15,
   "id": "4468fb86-9020-486b-a09a-254996535021",
   "metadata": {},
   "outputs": [],
   "source": [
    "ksol_sp = BeliefPropagation(instance)"
   ]
  },
  {
   "cell_type": "code",
   "execution_count": 16,
   "id": "86831af3-7386-44e1-9c3e-bd9413b3f430",
   "metadata": {},
   "outputs": [],
   "source": [
    "status = ksol_sp.MP(\n",
    "    ksol_sp.envs_tensors, \n",
    "    ksol_sp.instance, \n",
    "    tol=tol,\n",
    ")"
   ]
  },
  {
   "cell_type": "code",
   "execution_count": 17,
   "id": "1db7d073-107c-4d24-b446-4b3c69be85c0",
   "metadata": {},
   "outputs": [
    {
     "data": {
      "text/plain": [
       "array([0.50263969, 0.49736031])"
      ]
     },
     "execution_count": 17,
     "metadata": {},
     "output_type": "execute_result"
    }
   ],
   "source": [
    "ksol_sp.variable_marginal(2)"
   ]
  },
  {
   "attachments": {},
   "cell_type": "markdown",
   "id": "660d8bc5-21e7-4294-9660-33a9f7309afd",
   "metadata": {},
   "source": [
    "## Solve"
   ]
  },
  {
   "cell_type": "code",
   "execution_count": 18,
   "id": "2b565e9b-8b2e-454a-88ad-b9c9a3fc0dc5",
   "metadata": {},
   "outputs": [
    {
     "name": "stdout",
     "output_type": "stream",
     "text": [
      "M\tN\talpha\tcount\tfxvar\tbias\t\tval\titers\tdist\t\tMP time\titer time\n",
      "145\t49\t2.96\t0\t45\t9.22e-01\tFalse\t1\t8.94e-04\t0.11\t0.112\n",
      "138\t48\t2.88\t0\t7\t9.37e-01\tFalse\t43\t8.29e-04\t3.60\t0.077\n",
      "130\t47\t2.77\t0\t40\t-9.26e-01\tTrue\t62\t9.61e-04\t4.64\t0.074\n",
      "121\t46\t2.63\t0\t21\t-9.36e-01\tTrue\t56\t9.30e-04\t3.95\t0.068\n",
      "118\t45\t2.62\t0\t46\t9.46e-01\tFalse\t52\t9.08e-04\t3.37\t0.064\n",
      "112\t44\t2.55\t0\t5\t-9.72e-01\tTrue\t60\t9.70e-04\t3.72\t0.060\n",
      "107\t43\t2.49\t0\t1\t8.93e-01\tFalse\t42\t9.72e-04\t2.48\t0.057\n",
      "100\t42\t2.38\t0\t8\t9.04e-01\tFalse\t43\t8.63e-04\t2.44\t0.054\n",
      "95\t41\t2.32\t0\t24\t-9.24e-01\tTrue\t39\t8.18e-04\t2.03\t0.050\n",
      "87\t40\t2.17\t0\t35\t8.51e-01\tFalse\t31\t9.79e-04\t1.54\t0.047\n",
      "79\t39\t2.03\t0\t39\t-8.63e-01\tTrue\t30\t8.52e-04\t1.32\t0.042\n",
      "73\t38\t1.92\t0\t19\t-8.62e-01\tTrue\t24\t8.93e-04\t0.96\t0.038\n",
      "68\t37\t1.84\t0\t6\t-9.26e-01\tTrue\t27\t9.74e-04\t0.98\t0.035\n",
      "64\t36\t1.78\t0\t38\t8.49e-01\tFalse\t23\t8.84e-04\t0.80\t0.031\n",
      "59\t35\t1.69\t0\t44\t-8.57e-01\tTrue\t25\t7.45e-04\t0.78\t0.030\n",
      "56\t34\t1.65\t0\t9\t8.55e-01\tFalse\t23\t8.82e-04\t0.73\t0.028\n",
      "53\t33\t1.61\t0\t11\t-8.53e-01\tTrue\t21\t9.91e-04\t0.57\t0.025\n",
      "47\t32\t1.47\t0\t43\t8.55e-01\tFalse\t22\t8.97e-04\t0.54\t0.022\n",
      "45\t31\t1.45\t0\t18\t8.37e-01\tFalse\t25\t8.43e-04\t0.53\t0.020\n",
      "40\t30\t1.33\t0\t26\t8.35e-01\tFalse\t25\t8.08e-04\t0.52\t0.020\n",
      "37\t29\t1.28\t0\t41\t-8.23e-01\tTrue\t20\t8.48e-04\t0.37\t0.018\n",
      "36\t28\t1.29\t0\t37\t8.14e-01\tFalse\t21\t9.24e-04\t0.37\t0.017\n",
      "34\t27\t1.26\t0\t13\t9.02e-01\tFalse\t23\t5.92e-04\t0.38\t0.016\n",
      "30\t26\t1.15\t0\t0\t-7.99e-01\tTrue\t19\t6.97e-04\t0.29\t0.015\n",
      "24\t25\t0.96\t0\t2\t7.34e-01\tFalse\t19\t8.08e-04\t0.27\t0.013\n",
      "21\t24\t0.88\t0\t3\t-7.11e-01\tTrue\t20\t7.59e-04\t0.21\t0.010\n",
      "17\t23\t0.74\t0\t4\t6.89e-01\tFalse\t1\t5.98e-04\t0.01\t0.009\n",
      "15\t22\t0.68\t0\t28\t7.25e-01\tFalse\t21\t7.20e-04\t0.16\t0.007\n",
      "13\t21\t0.62\t0\t42\t-8.99e-01\tTrue\t21\t7.96e-04\t0.13\t0.006\n",
      "11\t20\t0.55\t0\t31\t7.87e-01\tFalse\t17\t9.69e-04\t0.11\t0.005\n",
      "10\t19\t0.53\t0\t12\t-7.21e-01\tTrue\t16\t5.26e-04\t0.08\t0.005\n",
      "9\t18\t0.50\t0\t25\t7.21e-01\tFalse\t16\t4.69e-04\t0.07\t0.004\n",
      "6\t17\t0.35\t0\t30\t-6.77e-01\tTrue\t13\t9.76e-04\t0.06\t0.004\n",
      "3\t16\t0.19\t0\t36\t6.00e-01\tFalse\t10\t7.58e-04\t0.03\t0.003\n",
      "2\t15\t0.13\t0\t22\t4.00e-01\tFalse\t5\t0.00e+00\t0.01\t0.002\n",
      "1\t14\t0.07\t0\t33\t-1.43e-01\tTrue\t3\t0.00e+00\t0.00\t0.001\n",
      "0\t13\t0.00\t0\t23\t1.43e-01\tFalse\t1\t0.00e+00\t0.00\t0.001\n"
     ]
    }
   ],
   "source": [
    "tol = 1e-3\n",
    "status = twonorm_ksol_sp.solve(\n",
    "    tol=tol,\n",
    ")"
   ]
  },
  {
   "cell_type": "code",
   "execution_count": 19,
   "id": "9e7b021d-dd54-463c-9251-f9f7bed9bd8a",
   "metadata": {},
   "outputs": [
    {
     "name": "stdout",
     "output_type": "stream",
     "text": [
      "M\tN\talpha\tcount\tfxvar\tbias\t\tval\titers\tdist\t\tMP time\titer time\n",
      "145\t49\t2.96\t0\t45\t9.22e-01\tFalse\t1\t9.45e-04\t0.02\t0.023\n",
      "138\t48\t2.88\t0\t7\t9.36e-01\tFalse\t36\t9.53e-04\t0.72\t0.018\n",
      "130\t47\t2.77\t0\t40\t-9.25e-01\tTrue\t50\t8.48e-04\t0.91\t0.015\n",
      "121\t46\t2.63\t0\t21\t-9.37e-01\tTrue\t40\t9.47e-04\t0.69\t0.016\n",
      "118\t45\t2.62\t0\t46\t9.45e-01\tFalse\t32\t9.51e-04\t0.47\t0.012\n",
      "112\t44\t2.55\t0\t5\t-9.71e-01\tTrue\t46\t9.82e-04\t0.65\t0.013\n",
      "107\t43\t2.49\t0\t1\t8.92e-01\tFalse\t34\t8.81e-04\t0.52\t0.015\n",
      "100\t42\t2.38\t0\t8\t9.04e-01\tFalse\t38\t8.38e-04\t0.57\t0.013\n",
      "95\t41\t2.32\t0\t24\t-9.24e-01\tTrue\t34\t6.78e-04\t0.41\t0.010\n",
      "87\t40\t2.17\t0\t35\t8.51e-01\tFalse\t28\t7.46e-04\t0.31\t0.011\n",
      "79\t39\t2.03\t0\t39\t-8.64e-01\tTrue\t24\t9.42e-04\t0.25\t0.010\n",
      "73\t38\t1.92\t0\t19\t-8.62e-01\tTrue\t24\t6.60e-04\t0.22\t0.008\n",
      "68\t37\t1.84\t0\t6\t-9.26e-01\tTrue\t24\t7.63e-04\t0.21\t0.007\n",
      "64\t36\t1.78\t0\t38\t8.49e-01\tFalse\t22\t7.36e-04\t0.17\t0.006\n",
      "59\t35\t1.69\t0\t44\t-8.58e-01\tTrue\t20\t8.72e-04\t0.14\t0.006\n",
      "56\t34\t1.65\t0\t9\t8.55e-01\tFalse\t22\t9.35e-04\t0.15\t0.007\n",
      "53\t33\t1.61\t0\t11\t-8.53e-01\tTrue\t20\t9.81e-04\t0.12\t0.005\n",
      "47\t32\t1.47\t0\t43\t8.55e-01\tFalse\t20\t8.49e-04\t0.11\t0.004\n",
      "45\t31\t1.45\t0\t18\t8.37e-01\tFalse\t24\t8.44e-04\t0.12\t0.004\n",
      "40\t30\t1.33\t0\t26\t8.35e-01\tFalse\t22\t8.12e-04\t0.12\t0.005\n",
      "37\t29\t1.28\t0\t41\t-8.23e-01\tTrue\t20\t4.19e-04\t0.08\t0.003\n",
      "36\t28\t1.29\t0\t37\t8.15e-01\tFalse\t18\t9.57e-04\t0.07\t0.003\n",
      "34\t27\t1.26\t0\t13\t9.02e-01\tFalse\t22\t5.80e-04\t0.07\t0.003\n",
      "30\t26\t1.15\t0\t0\t-7.99e-01\tTrue\t18\t6.92e-04\t0.07\t0.003\n",
      "24\t25\t0.96\t0\t2\t7.34e-01\tFalse\t18\t7.87e-04\t0.05\t0.003\n",
      "21\t24\t0.88\t0\t3\t-7.11e-01\tTrue\t18\t9.78e-04\t0.04\t0.002\n",
      "17\t23\t0.74\t0\t4\t6.89e-01\tFalse\t2\t5.28e-04\t0.00\t0.002\n",
      "15\t22\t0.68\t0\t28\t7.25e-01\tFalse\t20\t6.04e-04\t0.03\t0.001\n",
      "13\t21\t0.62\t0\t42\t-8.99e-01\tTrue\t20\t7.97e-04\t0.03\t0.001\n",
      "11\t20\t0.55\t0\t31\t7.87e-01\tFalse\t14\t9.60e-04\t0.02\t0.001\n",
      "10\t19\t0.53\t0\t12\t-7.21e-01\tTrue\t16\t2.63e-04\t0.02\t0.001\n",
      "9\t18\t0.50\t0\t25\t7.21e-01\tFalse\t16\t2.34e-04\t0.02\t0.001\n",
      "6\t17\t0.35\t0\t30\t-6.77e-01\tTrue\t12\t9.76e-04\t0.01\t0.001\n",
      "3\t16\t0.19\t0\t36\t6.00e-01\tFalse\t10\t3.79e-04\t0.01\t0.000\n",
      "2\t15\t0.13\t0\t22\t4.00e-01\tFalse\t5\t0.00e+00\t0.00\t0.000\n",
      "1\t14\t0.07\t0\t33\t-1.43e-01\tTrue\t3\t0.00e+00\t0.00\t0.000\n",
      "0\t13\t0.00\t0\t23\t1.43e-01\tFalse\t1\t0.00e+00\t0.00\t0.000\n"
     ]
    }
   ],
   "source": [
    "tol = 1e-3\n",
    "status = ksol_sp.solve(\n",
    "    tol=tol,\n",
    ")"
   ]
  },
  {
   "cell_type": "code",
   "execution_count": null,
   "id": "311b83fc-9123-45be-a08a-05d836e5c0ab",
   "metadata": {},
   "outputs": [],
   "source": []
  }
 ],
 "metadata": {
  "kernelspec": {
   "display_name": "Python 3 (ipykernel)",
   "language": "python",
   "name": "python3"
  },
  "language_info": {
   "codemirror_mode": {
    "name": "ipython",
    "version": 3
   },
   "file_extension": ".py",
   "mimetype": "text/x-python",
   "name": "python",
   "nbconvert_exporter": "python",
   "pygments_lexer": "ipython3",
   "version": "3.11.3"
  },
  "vscode": {
   "interpreter": {
    "hash": "39c10650315d977fb13868ea1402e99f3e10e9885c2c202e692ae90b8995050d"
   }
  }
 },
 "nbformat": 4,
 "nbformat_minor": 5
}
