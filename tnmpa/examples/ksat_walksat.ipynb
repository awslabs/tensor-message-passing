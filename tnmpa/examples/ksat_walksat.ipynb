{
 "cells": [
  {
   "cell_type": "code",
   "execution_count": 1,
   "id": "a378cbd7-9e96-4bf6-b425-41bc80dac210",
   "metadata": {},
   "outputs": [],
   "source": [
    "%load_ext autoreload\n",
    "%autoreload 2"
   ]
  },
  {
   "cell_type": "code",
   "execution_count": 2,
   "id": "462cbbba-8207-4bcf-9059-24849cb5eeaa",
   "metadata": {},
   "outputs": [],
   "source": [
    "from tnmpa import KsatInstance, WalkSAT"
   ]
  },
  {
   "cell_type": "code",
   "execution_count": 3,
   "id": "e40a5328-170e-4604-a032-9ccfc0511d96",
   "metadata": {},
   "outputs": [],
   "source": [
    "import random\n",
    "import numpy as np"
   ]
  },
  {
   "cell_type": "code",
   "execution_count": 4,
   "id": "57a1b129-2ec1-4c27-ae5a-c73743fce012",
   "metadata": {},
   "outputs": [],
   "source": [
    "# paramter the controls the complexity of the problem, ratio between number of clauses and number of variables\n",
    "# for alpha > 3.5 BP should start to fail\n",
    "alpha = 3.7\n",
    "\n",
    "# number of variables\n",
    "N = 500\n",
    "\n",
    "# numer of clauses\n",
    "M = int(alpha * N)\n",
    "\n",
    "# K of K-SAT\n",
    "K = 3"
   ]
  },
  {
   "cell_type": "code",
   "execution_count": 5,
   "id": "be2ded93-a95e-4c64-b568-0625db73d069",
   "metadata": {},
   "outputs": [],
   "source": [
    "seed = 0\n",
    "instance = KsatInstance(N, M, K, seed=seed)"
   ]
  },
  {
   "cell_type": "code",
   "execution_count": 6,
   "id": "c72c2bd9-201b-4544-92dc-947063515505",
   "metadata": {},
   "outputs": [],
   "source": [
    "ksol_walksat = WalkSAT(instance)"
   ]
  },
  {
   "cell_type": "code",
   "execution_count": 7,
   "id": "ec136b44-6cda-4e36-9872-14d039fdb445",
   "metadata": {},
   "outputs": [
    {
     "name": "stdout",
     "output_type": "stream",
     "text": [
      "Iter: 0, energy: 206\n",
      "Iter: 500, energy: 21\n",
      "Iter: 1000, energy: 16\n",
      "Iter: 1500, energy: 5\n",
      "Iter: 2000, energy: 4\n",
      "Iter: 2500, energy: 3\n",
      "Solution found\n"
     ]
    },
    {
     "data": {
      "text/plain": [
       "True"
      ]
     },
     "execution_count": 7,
     "metadata": {},
     "output_type": "execute_result"
    }
   ],
   "source": [
    "ksol_walksat.solve(10000, 0.7)"
   ]
  },
  {
   "cell_type": "code",
   "execution_count": null,
   "id": "0adb6fec-11ec-4793-93e9-0b60aee5f854",
   "metadata": {},
   "outputs": [],
   "source": []
  }
 ],
 "metadata": {
  "kernelspec": {
   "display_name": "Python 3 (ipykernel)",
   "language": "python",
   "name": "python3"
  },
  "language_info": {
   "codemirror_mode": {
    "name": "ipython",
    "version": 3
   },
   "file_extension": ".py",
   "mimetype": "text/x-python",
   "name": "python",
   "nbconvert_exporter": "python",
   "pygments_lexer": "ipython3",
   "version": "3.11.3"
  },
  "vscode": {
   "interpreter": {
    "hash": "39c10650315d977fb13868ea1402e99f3e10e9885c2c202e692ae90b8995050d"
   }
  }
 },
 "nbformat": 4,
 "nbformat_minor": 5
}
