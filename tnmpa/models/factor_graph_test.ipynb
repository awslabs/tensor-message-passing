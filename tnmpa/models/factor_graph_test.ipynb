{
 "cells": [
  {
   "cell_type": "code",
   "execution_count": 1,
   "metadata": {},
   "outputs": [],
   "source": [
    "%load_ext autoreload\n",
    "%autoreload 2"
   ]
  },
  {
   "cell_type": "code",
   "execution_count": 2,
   "metadata": {},
   "outputs": [
    {
     "ename": "ImportError",
     "evalue": "cannot import name 'KsatInstance' from 'factor_graph' (/Users/npancott/git_repos/tensor-message-passing/tnmpa/models/factor_graph.py)",
     "output_type": "error",
     "traceback": [
      "\u001b[0;31m---------------------------------------------------------------------------\u001b[0m",
      "\u001b[0;31mImportError\u001b[0m                               Traceback (most recent call last)",
      "Cell \u001b[0;32mIn[2], line 1\u001b[0m\n\u001b[0;32m----> 1\u001b[0m \u001b[39mfrom\u001b[39;00m \u001b[39mfactor_graph\u001b[39;00m \u001b[39mimport\u001b[39;00m Factor, Variable, FactorGraph, KsatInstance\n",
      "\u001b[0;31mImportError\u001b[0m: cannot import name 'KsatInstance' from 'factor_graph' (/Users/npancott/git_repos/tensor-message-passing/tnmpa/models/factor_graph.py)"
     ]
    }
   ],
   "source": [
    "from factor_graph import Factor, Variable, FactorGraph, KsatInstance"
   ]
  },
  {
   "cell_type": "code",
   "execution_count": 7,
   "metadata": {},
   "outputs": [
    {
     "data": {
      "text/plain": [
       "<tnmpa.models.mis.MIS at 0x13be65110>"
      ]
     },
     "execution_count": 7,
     "metadata": {},
     "output_type": "execute_result"
    }
   ],
   "source": [
    "from tnmpa.models.mis import MIS\n",
    "MIS(100, 50)"
   ]
  },
  {
   "attachments": {},
   "cell_type": "markdown",
   "metadata": {},
   "source": [
    "graph = nx.gnm_random_graph(100, 30, 3)"
   ]
  },
  {
   "cell_type": "code",
   "execution_count": 6,
   "metadata": {},
   "outputs": [
    {
     "data": {
      "text/plain": [
       "NodeView((0, 1, 2, 3, 4, 5, 6, 7, 8, 9, 10, 11, 12, 13, 14, 15, 16, 17, 18, 19, 20, 21, 22, 23, 24, 25, 26, 27, 28, 29, 30, 31, 32, 33, 34, 35, 36, 37, 38, 39, 40, 41, 42, 43, 44, 45, 46, 47, 48, 49, 50, 51, 52, 53, 54, 55, 56, 57, 58, 59, 60, 61, 62, 63, 64, 65, 66, 67, 68, 69, 70, 71, 72, 73, 74, 75, 76, 77, 78, 79, 80, 81, 82, 83, 84, 85, 86, 87, 88, 89, 90, 91, 92, 93, 94, 95, 96, 97, 98, 99))"
      ]
     },
     "execution_count": 6,
     "metadata": {},
     "output_type": "execute_result"
    }
   ],
   "source": [
    "graph.nodes"
   ]
  },
  {
   "cell_type": "code",
   "execution_count": 4,
   "metadata": {},
   "outputs": [],
   "source": [
    "inst = KsatInstance(10, 5, 3, seed=0)"
   ]
  },
  {
   "cell_type": "code",
   "execution_count": 19,
   "metadata": {},
   "outputs": [
    {
     "data": {
      "text/plain": [
       "({'c0', 'c1', 'c2', 'c3', 'c4'},\n",
       " {'v0', 'v1', 'v2', 'v3', 'v4', 'v5', 'v6', 'v7', 'v8', 'v9'})"
      ]
     },
     "execution_count": 19,
     "metadata": {},
     "output_type": "execute_result"
    }
   ],
   "source": [
    "bipartite.sets(inst.graph)"
   ]
  },
  {
   "cell_type": "code",
   "execution_count": 11,
   "metadata": {},
   "outputs": [],
   "source": [
    "from networkx.algorithms import bipartite\n",
    "top_nodes = {n: d for n, d in inst.graph.nodes(data=True) if d[\"bipartite\"] == 1}"
   ]
  },
  {
   "cell_type": "code",
   "execution_count": 17,
   "metadata": {},
   "outputs": [
    {
     "data": {
      "text/plain": [
       "NodeDataView({'c0': {'bipartite': 1, 'data': Clause(c0, variables: (Variable(v0, dim=2), Variable(v6, dim=2), Variable(v9, dim=2)), values: (False, False, True))}, 'v0': {'bipartite': 0, 'data': Variable(v0, dim=2)}, 'v6': {'bipartite': 0, 'data': Variable(v6, dim=2)}, 'v9': {'bipartite': 0, 'data': Variable(v9, dim=2)}, 'c1': {'bipartite': 1, 'data': Clause(c1, variables: (Variable(v4, dim=2), Variable(v7, dim=2), Variable(v8, dim=2)), values: (True, True, True))}, 'v4': {'bipartite': 0, 'data': Variable(v4, dim=2)}, 'v7': {'bipartite': 0, 'data': Variable(v7, dim=2)}, 'v8': {'bipartite': 0, 'data': Variable(v8, dim=2)}, 'c2': {'bipartite': 1, 'data': Clause(c2, variables: (Variable(v4, dim=2), Variable(v6, dim=2), Variable(v7, dim=2)), values: (True, False, True))}, 'c3': {'bipartite': 1, 'data': Clause(c3, variables: (Variable(v2, dim=2), Variable(v3, dim=2), Variable(v5, dim=2)), values: (False, False, False))}, 'v2': {'bipartite': 0, 'data': Variable(v2, dim=2)}, 'v3': {'bipartite': 0, 'data': Variable(v3, dim=2)}, 'v5': {'bipartite': 0, 'data': Variable(v5, dim=2)}, 'c4': {'bipartite': 1, 'data': Clause(c4, variables: (Variable(v1, dim=2), Variable(v2, dim=2), Variable(v4, dim=2)), values: (True, True, False))}, 'v1': {'bipartite': 0, 'data': Variable(v1, dim=2)}})"
      ]
     },
     "execution_count": 17,
     "metadata": {},
     "output_type": "execute_result"
    }
   ],
   "source": [
    "inst.graph.nodes.data()"
   ]
  },
  {
   "cell_type": "code",
   "execution_count": 11,
   "metadata": {},
   "outputs": [
    {
     "data": {
      "text/plain": [
       "factor_graph.Variable"
      ]
     },
     "execution_count": 11,
     "metadata": {},
     "output_type": "execute_result"
    }
   ],
   "source": [
    "v = inst.graph.nodes[\"v5\"][\"data\"]\n",
    "type(v)\n",
    "#inst.graph.nodes[\"c3\"][\"data\"](v)"
   ]
  },
  {
   "cell_type": "code",
   "execution_count": null,
   "metadata": {},
   "outputs": [],
   "source": [
    "inst.graph."
   ]
  },
  {
   "cell_type": "code",
   "execution_count": 8,
   "metadata": {},
   "outputs": [
    {
     "data": {
      "text/plain": [
       "{'directed': False,\n",
       " 'multigraph': False,\n",
       " 'graph': {},\n",
       " 'nodes': [{'bipartite': 1,\n",
       "   'data': <factor_graph.Clause at 0x1289a9e90>,\n",
       "   'id': 'c0'},\n",
       "  {'bipartite': 0, 'data': v0, 'id': 'v0'},\n",
       "  {'bipartite': 0, 'data': v6, 'id': 'v6'},\n",
       "  {'bipartite': 0, 'data': v9, 'id': 'v9'},\n",
       "  {'bipartite': 1, 'data': <factor_graph.Clause at 0x1288bf6d0>, 'id': 'c1'},\n",
       "  {'bipartite': 0, 'data': v4, 'id': 'v4'},\n",
       "  {'bipartite': 0, 'data': v7, 'id': 'v7'},\n",
       "  {'bipartite': 0, 'data': v8, 'id': 'v8'},\n",
       "  {'bipartite': 1, 'data': <factor_graph.Clause at 0x135b4aa90>, 'id': 'c2'},\n",
       "  {'bipartite': 1, 'data': <factor_graph.Clause at 0x135b4ad50>, 'id': 'c3'},\n",
       "  {'bipartite': 0, 'data': v2, 'id': 'v2'},\n",
       "  {'bipartite': 0, 'data': v3, 'id': 'v3'},\n",
       "  {'bipartite': 0, 'data': v5, 'id': 'v5'},\n",
       "  {'bipartite': 1, 'data': <factor_graph.Clause at 0x135b4b010>, 'id': 'c4'},\n",
       "  {'bipartite': 0, 'data': v1, 'id': 'v1'}],\n",
       " 'links': [{'source': 'c0', 'target': 'v0'},\n",
       "  {'source': 'c0', 'target': 'v6'},\n",
       "  {'source': 'c0', 'target': 'v9'},\n",
       "  {'source': 'v6', 'target': 'c2'},\n",
       "  {'source': 'c1', 'target': 'v4'},\n",
       "  {'source': 'c1', 'target': 'v7'},\n",
       "  {'source': 'c1', 'target': 'v8'},\n",
       "  {'source': 'v4', 'target': 'c2'},\n",
       "  {'source': 'v4', 'target': 'c4'},\n",
       "  {'source': 'v7', 'target': 'c2'},\n",
       "  {'source': 'c3', 'target': 'v2'},\n",
       "  {'source': 'c3', 'target': 'v3'},\n",
       "  {'source': 'c3', 'target': 'v5'},\n",
       "  {'source': 'v2', 'target': 'c4'},\n",
       "  {'source': 'c4', 'target': 'v1'}]}"
      ]
     },
     "execution_count": 8,
     "metadata": {},
     "output_type": "execute_result"
    }
   ],
   "source": [
    "import networkx as nx\n",
    "nx.node_link_data(inst.graph)"
   ]
  },
  {
   "cell_type": "code",
   "execution_count": 8,
   "metadata": {},
   "outputs": [
    {
     "data": {
      "text/plain": [
       "['c3']"
      ]
     },
     "execution_count": 8,
     "metadata": {},
     "output_type": "execute_result"
    }
   ],
   "source": [
    "list(inst.graph.neighbors(\"v5\"))"
   ]
  },
  {
   "cell_type": "code",
   "execution_count": 12,
   "metadata": {},
   "outputs": [],
   "source": [
    "neighbors = list(inst.graph.neighbors(\"v0\"))"
   ]
  },
  {
   "cell_type": "code",
   "execution_count": 54,
   "metadata": {},
   "outputs": [
    {
     "data": {
      "text/plain": [
       "factor_graph.Variable"
      ]
     },
     "execution_count": 54,
     "metadata": {},
     "output_type": "execute_result"
    }
   ],
   "source": [
    "type(inst.graph.nodes[\"c0\"][\"data\"].variables[0])"
   ]
  },
  {
   "cell_type": "code",
   "execution_count": 10,
   "metadata": {},
   "outputs": [
    {
     "data": {
      "text/plain": [
       "((v2, v3, v5), (False, False, False))"
      ]
     },
     "execution_count": 10,
     "metadata": {},
     "output_type": "execute_result"
    }
   ],
   "source": [
    "inst.graph.nodes[\"c3\"][\"data\"].variables, inst.graph.nodes[\"c3\"][\"data\"].values"
   ]
  },
  {
   "cell_type": "code",
   "execution_count": 13,
   "metadata": {},
   "outputs": [
    {
     "data": {
      "text/plain": [
       "['c0']"
      ]
     },
     "execution_count": 13,
     "metadata": {},
     "output_type": "execute_result"
    }
   ],
   "source": [
    "neighbors"
   ]
  },
  {
   "cell_type": "code",
   "execution_count": 14,
   "metadata": {},
   "outputs": [],
   "source": [
    "inst.fix_variable(\"v2\", True)"
   ]
  },
  {
   "cell_type": "code",
   "execution_count": 15,
   "metadata": {},
   "outputs": [
    {
     "data": {
      "text/plain": [
       "[]"
      ]
     },
     "execution_count": 15,
     "metadata": {},
     "output_type": "execute_result"
    }
   ],
   "source": [
    "list(inst.graph.neighbors(\"v3\"))"
   ]
  },
  {
   "cell_type": "code",
   "execution_count": 16,
   "metadata": {},
   "outputs": [],
   "source": [
    "v1 = Variable(\"v1\")\n",
    "v2 = Variable(\"v2\")\n",
    "v3 = Variable(\"v3\")"
   ]
  },
  {
   "cell_type": "code",
   "execution_count": 17,
   "metadata": {},
   "outputs": [],
   "source": [
    "f = Factor(\"f1\", [v1, v2, v3])"
   ]
  },
  {
   "cell_type": "code",
   "execution_count": 5,
   "metadata": {},
   "outputs": [],
   "source": [
    "fg = FactorGraph()"
   ]
  },
  {
   "cell_type": "code",
   "execution_count": 6,
   "metadata": {},
   "outputs": [],
   "source": [
    "fg.add_factor(f)"
   ]
  },
  {
   "cell_type": "code",
   "execution_count": 14,
   "metadata": {},
   "outputs": [
    {
     "data": {
      "text/plain": [
       "True"
      ]
     },
     "execution_count": 14,
     "metadata": {},
     "output_type": "execute_result"
    }
   ],
   "source": [
    "from networkx.algorithms import bipartite\n",
    "bipartite.is_bipartite(fg.graph)"
   ]
  },
  {
   "cell_type": "code",
   "execution_count": 6,
   "metadata": {},
   "outputs": [
    {
     "data": {
      "image/png": "[encoded data removed]",
      "text/plain": [
       "<Figure size 640x480 with 1 Axes>"
      ]
     },
     "metadata": {},
     "output_type": "display_data"
    }
   ],
   "source": [
    "import networkx as nx\n",
    "nx.draw(inst.graph)"
   ]
  },
  {
   "cell_type": "code",
   "execution_count": 9,
   "metadata": {},
   "outputs": [],
   "source": [
    "fg.add_edge(f, v)"
   ]
  },
  {
   "cell_type": "code",
   "execution_count": 15,
   "metadata": {},
   "outputs": [],
   "source": [
    "fg.add_edges_from([[v, f], [f, v]])"
   ]
  },
  {
   "cell_type": "code",
   "execution_count": null,
   "metadata": {},
   "outputs": [],
   "source": []
  }
 ],
 "metadata": {
  "kernelspec": {
   "display_name": "tnmpa",
   "language": "python",
   "name": "python3"
  },
  "language_info": {
   "codemirror_mode": {
    "name": "ipython",
    "version": 3
   },
   "file_extension": ".py",
   "mimetype": "text/x-python",
   "name": "python",
   "nbconvert_exporter": "python",
   "pygments_lexer": "ipython3",
   "version": "3.11.3"
  },
  "orig_nbformat": 4
 },
 "nbformat": 4,
 "nbformat_minor": 2
}
