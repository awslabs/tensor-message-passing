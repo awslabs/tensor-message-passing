{
 "cells": [
  {
   "cell_type": "code",
   "execution_count": 1,
   "metadata": {},
   "outputs": [
    {
     "name": "stderr",
     "output_type": "stream",
     "text": [
      "/opt/anaconda3/lib/python3.9/site-packages/numba/np/ufunc/parallel.py:371: NumbaWarning: \u001b[1mThe TBB threading layer requires TBB version 2021 update 6 or later i.e., TBB_INTERFACE_VERSION >= 12060. Found TBB_INTERFACE_VERSION = 12040. The TBB threading layer is disabled.\u001b[0m\n",
      "  warnings.warn(problem)\n",
      "OMP: Info #271: omp_set_nested routine deprecated, please use omp_set_max_active_levels instead.\n"
     ]
    }
   ],
   "source": [
    "import quimb.tensor as qtn\n",
    "import quimb_vbp2 as qbp"
   ]
  },
  {
   "cell_type": "markdown",
   "metadata": {},
   "source": [
    "# single run and entropy computation\n"
   ]
  },
  {
   "cell_type": "code",
   "execution_count": 6,
   "metadata": {},
   "outputs": [],
   "source": [
    "# can also call KsatInstance.htn(mode='dense') for smaller N\n",
    "tn = qtn.HTN_random_ksat(\n",
    "    3, \n",
    "    10_000, \n",
    "    alpha=3.0, \n",
    "    # mode must be dense to have a single positive tensor per clause\n",
    "    mode='dense', \n",
    "    seed=42,\n",
    ")"
   ]
  },
  {
   "cell_type": "code",
   "execution_count": 7,
   "metadata": {},
   "outputs": [
    {
     "name": "stderr",
     "output_type": "stream",
     "text": [
      "8.493206138382448e-14:  28%|████▊            | 284/1000 [00:06<00:15, 46.02it/s]\n"
     ]
    }
   ],
   "source": [
    "messages, converged = qbp.run_belief_propagation(\n",
    "    tn, \n",
    "    tol=1e-13,\n",
    "    max_iterations=1000, \n",
    "    progbar=True,\n",
    "    # you can parallelize but its not super efficient\n",
    "    thread_pool=8,\n",
    ")"
   ]
  },
  {
   "cell_type": "code",
   "execution_count": 8,
   "metadata": {},
   "outputs": [
    {
     "data": {
      "text/plain": [
       "2741.60721169878"
      ]
     },
     "execution_count": 8,
     "metadata": {},
     "output_type": "execute_result"
    }
   ],
   "source": [
    "qbp.compute_free_entropy_from_messages(tn, messages)"
   ]
  },
  {
   "cell_type": "markdown",
   "metadata": {},
   "source": [
    "# sampling\n"
   ]
  },
  {
   "cell_type": "code",
   "execution_count": 5,
   "metadata": {},
   "outputs": [],
   "source": [
    "tn = qtn.HTN_random_ksat(\n",
    "    3, \n",
    "    1_000, \n",
    "    alpha=3.0, \n",
    "    # mode must be dense to have a single positive tensor per clause\n",
    "    mode='dense', \n",
    "    seed=42,\n",
    ")"
   ]
  },
  {
   "cell_type": "code",
   "execution_count": 6,
   "metadata": {},
   "outputs": [
    {
     "name": "stderr",
     "output_type": "stream",
     "text": [
      "var301->0: 100%|██████████| 1000/1000 [00:56<00:00, 17.69it/s]\n"
     ]
    }
   ],
   "source": [
    "config, tnc, omega = qbp.sample_belief_propagation(\n",
    "    tn, progbar=True, \n",
    "    thread_pool=8,\n",
    "    bias=True,\n",
    ")"
   ]
  },
  {
   "cell_type": "code",
   "execution_count": 7,
   "metadata": {},
   "outputs": [
    {
     "data": {
      "text/plain": [
       "1.0"
      ]
     },
     "execution_count": 7,
     "metadata": {},
     "output_type": "execute_result"
    }
   ],
   "source": [
    "# check is SAT, tnc is the TN with all variables sliced\n",
    "tnc ^ ..."
   ]
  },
  {
   "cell_type": "code",
   "execution_count": 8,
   "metadata": {},
   "outputs": [
    {
     "data": {
      "text/plain": [
       "2.5379666993914652e-117"
      ]
     },
     "execution_count": 8,
     "metadata": {},
     "output_type": "execute_result"
    }
   ],
   "source": [
    "# weight for importance sampling .e.g\n",
    "omega"
   ]
  }
 ],
 "metadata": {
  "kernelspec": {
   "display_name": "Python 3 (ipykernel)",
   "language": "python",
   "name": "python3"
  },
  "language_info": {
   "codemirror_mode": {
    "name": "ipython",
    "version": 3
   },
   "file_extension": ".py",
   "mimetype": "text/x-python",
   "name": "python",
   "nbconvert_exporter": "python",
   "pygments_lexer": "ipython3",
   "version": "3.9.7"
  }
 },
 "nbformat": 4,
 "nbformat_minor": 4
}
